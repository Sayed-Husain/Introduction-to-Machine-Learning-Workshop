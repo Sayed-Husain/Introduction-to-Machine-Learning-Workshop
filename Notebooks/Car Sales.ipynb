{
 "cells": [
  {
   "cell_type": "markdown",
   "id": "eebc75bc",
   "metadata": {},
   "source": [
    "# Car Sales Exercise Notebook\n",
    "\n",
    "> This notebook contains the the solution for the Car Sales Exercise.\n",
    "\n",
    "In this notebook, we are trying to make a model that can predict the used cars sale price depending on several factors. "
   ]
  },
  {
   "cell_type": "markdown",
   "id": "d39059b6",
   "metadata": {},
   "source": [
    "## Import the libraries\n",
    "Importing the Data Science and Machine Learning libraries\n",
    "\n",
    "* Pandas as pd\n",
    "* Numpy as np\n",
    "* Matplotlib as plt\n",
    "* Scikit-learn"
   ]
  },
  {
   "cell_type": "code",
   "execution_count": 1,
   "id": "bb36601a",
   "metadata": {},
   "outputs": [],
   "source": [
    "# Import libraries\n",
    "import pandas as pd \n",
    "import numpy as np\n",
    "import matplotlib.pyplot as plt\n",
    "\n",
    "# We will leave the scikit library as we will only import functions of the library when we need to"
   ]
  },
  {
   "cell_type": "markdown",
   "id": "25e8c979",
   "metadata": {},
   "source": [
    "## Importing the data\n",
    "\n",
    "Since the dataset is a csv file, we will need to use `pd.read_csv()` method to read the files. <br>\n",
    "And since the file is accessible from github, we can directly pass the raw url of the github file."
   ]
  },
  {
   "cell_type": "code",
   "execution_count": 2,
   "id": "266ba3df",
   "metadata": {},
   "outputs": [
    {
     "data": {
      "text/html": [
       "<div>\n",
       "<style scoped>\n",
       "    .dataframe tbody tr th:only-of-type {\n",
       "        vertical-align: middle;\n",
       "    }\n",
       "\n",
       "    .dataframe tbody tr th {\n",
       "        vertical-align: top;\n",
       "    }\n",
       "\n",
       "    .dataframe thead th {\n",
       "        text-align: right;\n",
       "    }\n",
       "</style>\n",
       "<table border=\"1\" class=\"dataframe\">\n",
       "  <thead>\n",
       "    <tr style=\"text-align: right;\">\n",
       "      <th></th>\n",
       "      <th>Odometer (KM)</th>\n",
       "      <th>Doors</th>\n",
       "      <th>Price</th>\n",
       "      <th>Make_BMW</th>\n",
       "      <th>Make_Honda</th>\n",
       "      <th>Make_Nissan</th>\n",
       "      <th>Make_Toyota</th>\n",
       "      <th>Colour_Black</th>\n",
       "      <th>Colour_Blue</th>\n",
       "      <th>Colour_Green</th>\n",
       "      <th>Colour_Red</th>\n",
       "      <th>Colour_White</th>\n",
       "    </tr>\n",
       "  </thead>\n",
       "  <tbody>\n",
       "    <tr>\n",
       "      <th>0</th>\n",
       "      <td>35431</td>\n",
       "      <td>4</td>\n",
       "      <td>15323</td>\n",
       "      <td>0</td>\n",
       "      <td>1</td>\n",
       "      <td>0</td>\n",
       "      <td>0</td>\n",
       "      <td>0</td>\n",
       "      <td>0</td>\n",
       "      <td>0</td>\n",
       "      <td>0</td>\n",
       "      <td>1</td>\n",
       "    </tr>\n",
       "    <tr>\n",
       "      <th>1</th>\n",
       "      <td>192714</td>\n",
       "      <td>5</td>\n",
       "      <td>19943</td>\n",
       "      <td>1</td>\n",
       "      <td>0</td>\n",
       "      <td>0</td>\n",
       "      <td>0</td>\n",
       "      <td>0</td>\n",
       "      <td>1</td>\n",
       "      <td>0</td>\n",
       "      <td>0</td>\n",
       "      <td>0</td>\n",
       "    </tr>\n",
       "    <tr>\n",
       "      <th>2</th>\n",
       "      <td>84714</td>\n",
       "      <td>4</td>\n",
       "      <td>28343</td>\n",
       "      <td>0</td>\n",
       "      <td>1</td>\n",
       "      <td>0</td>\n",
       "      <td>0</td>\n",
       "      <td>0</td>\n",
       "      <td>0</td>\n",
       "      <td>0</td>\n",
       "      <td>0</td>\n",
       "      <td>1</td>\n",
       "    </tr>\n",
       "    <tr>\n",
       "      <th>3</th>\n",
       "      <td>154365</td>\n",
       "      <td>4</td>\n",
       "      <td>13434</td>\n",
       "      <td>0</td>\n",
       "      <td>0</td>\n",
       "      <td>0</td>\n",
       "      <td>1</td>\n",
       "      <td>0</td>\n",
       "      <td>0</td>\n",
       "      <td>0</td>\n",
       "      <td>0</td>\n",
       "      <td>1</td>\n",
       "    </tr>\n",
       "    <tr>\n",
       "      <th>4</th>\n",
       "      <td>181577</td>\n",
       "      <td>3</td>\n",
       "      <td>14043</td>\n",
       "      <td>0</td>\n",
       "      <td>0</td>\n",
       "      <td>1</td>\n",
       "      <td>0</td>\n",
       "      <td>0</td>\n",
       "      <td>1</td>\n",
       "      <td>0</td>\n",
       "      <td>0</td>\n",
       "      <td>0</td>\n",
       "    </tr>\n",
       "  </tbody>\n",
       "</table>\n",
       "</div>"
      ],
      "text/plain": [
       "   Odometer (KM)  Doors  Price  Make_BMW  Make_Honda  Make_Nissan  \\\n",
       "0          35431      4  15323         0           1            0   \n",
       "1         192714      5  19943         1           0            0   \n",
       "2          84714      4  28343         0           1            0   \n",
       "3         154365      4  13434         0           0            0   \n",
       "4         181577      3  14043         0           0            1   \n",
       "\n",
       "   Make_Toyota  Colour_Black  Colour_Blue  Colour_Green  Colour_Red  \\\n",
       "0            0             0            0             0           0   \n",
       "1            0             0            1             0           0   \n",
       "2            0             0            0             0           0   \n",
       "3            1             0            0             0           0   \n",
       "4            0             0            1             0           0   \n",
       "\n",
       "   Colour_White  \n",
       "0             1  \n",
       "1             0  \n",
       "2             1  \n",
       "3             1  \n",
       "4             0  "
      ]
     },
     "execution_count": 2,
     "metadata": {},
     "output_type": "execute_result"
    }
   ],
   "source": [
    "# Read the csv file from github\n",
    "df = pd.read_csv(\"https://raw.githubusercontent.com/Sayed-Husain/Introduction-to-Machine-Learning-Workshop/main/Data/Car%20Sales.csv\")\n",
    "\n",
    "# To confirm that the file was read lets view the first 5 rows\n",
    "df.head()"
   ]
  },
  {
   "cell_type": "code",
   "execution_count": 3,
   "id": "a48276eb",
   "metadata": {},
   "outputs": [
    {
     "data": {
      "text/plain": [
       "1000"
      ]
     },
     "execution_count": 3,
     "metadata": {},
     "output_type": "execute_result"
    }
   ],
   "source": [
    "# Check the size of the dataset\n",
    "len(df)"
   ]
  },
  {
   "cell_type": "markdown",
   "id": "adc1387c",
   "metadata": {},
   "source": [
    "## Prepare our data\n",
    "\n",
    "**Steps to make:**\n",
    "1. Create X, y variables\n",
    "2. Create training and testing datasets\n",
    "\n",
    "\n",
    "### What are the X and y variables in this dataset\n",
    "As we are trying to predict the Price of the car depending on its features, the y varible is going to be the `Price` column, and the X variable is going to be entire dataset excluding the `Price` column."
   ]
  },
  {
   "cell_type": "code",
   "execution_count": 4,
   "id": "f497e2ca",
   "metadata": {},
   "outputs": [],
   "source": [
    "# Create the X and y variable\n",
    "y = df[\"Price\"]\n",
    "X = df.drop(\"Price\", axis=1) # Axis refers to the axis that is going to be dropped. 0 refers to rows, 1 refers to columns"
   ]
  },
  {
   "cell_type": "code",
   "execution_count": 5,
   "id": "7782066f",
   "metadata": {},
   "outputs": [
    {
     "data": {
      "text/plain": [
       "0    15323\n",
       "1    19943\n",
       "2    28343\n",
       "3    13434\n",
       "4    14043\n",
       "Name: Price, dtype: int64"
      ]
     },
     "execution_count": 5,
     "metadata": {},
     "output_type": "execute_result"
    }
   ],
   "source": [
    "# To confirm that the y is what we expect\n",
    "y.head()"
   ]
  },
  {
   "cell_type": "code",
   "execution_count": 6,
   "id": "fb75ac02",
   "metadata": {},
   "outputs": [
    {
     "data": {
      "text/html": [
       "<div>\n",
       "<style scoped>\n",
       "    .dataframe tbody tr th:only-of-type {\n",
       "        vertical-align: middle;\n",
       "    }\n",
       "\n",
       "    .dataframe tbody tr th {\n",
       "        vertical-align: top;\n",
       "    }\n",
       "\n",
       "    .dataframe thead th {\n",
       "        text-align: right;\n",
       "    }\n",
       "</style>\n",
       "<table border=\"1\" class=\"dataframe\">\n",
       "  <thead>\n",
       "    <tr style=\"text-align: right;\">\n",
       "      <th></th>\n",
       "      <th>Odometer (KM)</th>\n",
       "      <th>Doors</th>\n",
       "      <th>Make_BMW</th>\n",
       "      <th>Make_Honda</th>\n",
       "      <th>Make_Nissan</th>\n",
       "      <th>Make_Toyota</th>\n",
       "      <th>Colour_Black</th>\n",
       "      <th>Colour_Blue</th>\n",
       "      <th>Colour_Green</th>\n",
       "      <th>Colour_Red</th>\n",
       "      <th>Colour_White</th>\n",
       "    </tr>\n",
       "  </thead>\n",
       "  <tbody>\n",
       "    <tr>\n",
       "      <th>0</th>\n",
       "      <td>35431</td>\n",
       "      <td>4</td>\n",
       "      <td>0</td>\n",
       "      <td>1</td>\n",
       "      <td>0</td>\n",
       "      <td>0</td>\n",
       "      <td>0</td>\n",
       "      <td>0</td>\n",
       "      <td>0</td>\n",
       "      <td>0</td>\n",
       "      <td>1</td>\n",
       "    </tr>\n",
       "    <tr>\n",
       "      <th>1</th>\n",
       "      <td>192714</td>\n",
       "      <td>5</td>\n",
       "      <td>1</td>\n",
       "      <td>0</td>\n",
       "      <td>0</td>\n",
       "      <td>0</td>\n",
       "      <td>0</td>\n",
       "      <td>1</td>\n",
       "      <td>0</td>\n",
       "      <td>0</td>\n",
       "      <td>0</td>\n",
       "    </tr>\n",
       "    <tr>\n",
       "      <th>2</th>\n",
       "      <td>84714</td>\n",
       "      <td>4</td>\n",
       "      <td>0</td>\n",
       "      <td>1</td>\n",
       "      <td>0</td>\n",
       "      <td>0</td>\n",
       "      <td>0</td>\n",
       "      <td>0</td>\n",
       "      <td>0</td>\n",
       "      <td>0</td>\n",
       "      <td>1</td>\n",
       "    </tr>\n",
       "    <tr>\n",
       "      <th>3</th>\n",
       "      <td>154365</td>\n",
       "      <td>4</td>\n",
       "      <td>0</td>\n",
       "      <td>0</td>\n",
       "      <td>0</td>\n",
       "      <td>1</td>\n",
       "      <td>0</td>\n",
       "      <td>0</td>\n",
       "      <td>0</td>\n",
       "      <td>0</td>\n",
       "      <td>1</td>\n",
       "    </tr>\n",
       "    <tr>\n",
       "      <th>4</th>\n",
       "      <td>181577</td>\n",
       "      <td>3</td>\n",
       "      <td>0</td>\n",
       "      <td>0</td>\n",
       "      <td>1</td>\n",
       "      <td>0</td>\n",
       "      <td>0</td>\n",
       "      <td>1</td>\n",
       "      <td>0</td>\n",
       "      <td>0</td>\n",
       "      <td>0</td>\n",
       "    </tr>\n",
       "  </tbody>\n",
       "</table>\n",
       "</div>"
      ],
      "text/plain": [
       "   Odometer (KM)  Doors  Make_BMW  Make_Honda  Make_Nissan  Make_Toyota  \\\n",
       "0          35431      4         0           1            0            0   \n",
       "1         192714      5         1           0            0            0   \n",
       "2          84714      4         0           1            0            0   \n",
       "3         154365      4         0           0            0            1   \n",
       "4         181577      3         0           0            1            0   \n",
       "\n",
       "   Colour_Black  Colour_Blue  Colour_Green  Colour_Red  Colour_White  \n",
       "0             0            0             0           0             1  \n",
       "1             0            1             0           0             0  \n",
       "2             0            0             0           0             1  \n",
       "3             0            0             0           0             1  \n",
       "4             0            1             0           0             0  "
      ]
     },
     "execution_count": 6,
     "metadata": {},
     "output_type": "execute_result"
    }
   ],
   "source": [
    "# To confirm that the X is what we expect\n",
    "X.head()"
   ]
  },
  {
   "cell_type": "code",
   "execution_count": 7,
   "id": "fe8f14ba",
   "metadata": {},
   "outputs": [],
   "source": [
    "# Import the train_test_split function from sklearn library\n",
    "from sklearn.model_selection import train_test_split\n",
    "\n",
    "# Create the training the testing datasets\n",
    "X_train, X_test, y_train, y_test = train_test_split(X, y, test_size=0.2)"
   ]
  },
  {
   "cell_type": "code",
   "execution_count": 8,
   "id": "498ea829",
   "metadata": {},
   "outputs": [
    {
     "data": {
      "text/plain": [
       "(800, 800, 200, 200)"
      ]
     },
     "execution_count": 8,
     "metadata": {},
     "output_type": "execute_result"
    }
   ],
   "source": [
    "# Let's check the length of the training and testing datasets\n",
    "len(X_train), len(y_train), len(X_test), len(y_test)"
   ]
  },
  {
   "cell_type": "markdown",
   "id": "ede2028a",
   "metadata": {},
   "source": [
    "## Make the model\n",
    "\n",
    "As our problem is a regression problem, we are going to use the `RandomForestRegressor()` model."
   ]
  },
  {
   "cell_type": "code",
   "execution_count": 9,
   "id": "b4539b03",
   "metadata": {},
   "outputs": [
    {
     "data": {
      "text/plain": [
       "0.22528981074940613"
      ]
     },
     "execution_count": 9,
     "metadata": {},
     "output_type": "execute_result"
    }
   ],
   "source": [
    "# Import the model from the sklearn library \n",
    "from sklearn.ensemble import RandomForestRegressor\n",
    "\n",
    "# Assign the model to a variable\n",
    "model = RandomForestRegressor()\n",
    "\n",
    "# Train the model on the training dataset\n",
    "model.fit(X_train, y_train)\n",
    "\n",
    "# Let's check the score of the model\n",
    "model.score(X_test, y_test)"
   ]
  },
  {
   "cell_type": "code",
   "execution_count": 10,
   "id": "f95f1758",
   "metadata": {},
   "outputs": [
    {
     "data": {
      "text/plain": [
       "6548.59635"
      ]
     },
     "execution_count": 10,
     "metadata": {},
     "output_type": "execute_result"
    }
   ],
   "source": [
    "# Make predictions on unseed data\n",
    "predictions = model.predict(X_test)\n",
    "\n",
    "# from sklearn library, import mean_absolute_error\n",
    "from sklearn.metrics import mean_absolute_error\n",
    "\n",
    "# Check the mean_absoloute_error of the predictions of the model\n",
    "mean_absolute_error(y_test, predictions)"
   ]
  },
  {
   "cell_type": "markdown",
   "id": "113dd571",
   "metadata": {},
   "source": [
    "## The model is performing poorly, why!?"
   ]
  },
  {
   "cell_type": "markdown",
   "id": "037af1f7",
   "metadata": {},
   "source": [
    "The model performance is terrible, but why is that?\n",
    "Well, it could be because of many reasons, including but not limited to:\n",
    "* **The dataset is poor** - as the dataset only contains the Make, Colour, number of doors, and the Odometer of the car. And definetly a used car price has many more dependencies than those.\n",
    "* **Overfitting** - The data might be learning too well on the training dataset, resulting in poor generalization of the predictions."
   ]
  },
  {
   "cell_type": "code",
   "execution_count": null,
   "id": "095d50d1",
   "metadata": {},
   "outputs": [],
   "source": []
  }
 ],
 "metadata": {
  "kernelspec": {
   "display_name": "Python 3 (ipykernel)",
   "language": "python",
   "name": "python3"
  },
  "language_info": {
   "codemirror_mode": {
    "name": "ipython",
    "version": 3
   },
   "file_extension": ".py",
   "mimetype": "text/x-python",
   "name": "python",
   "nbconvert_exporter": "python",
   "pygments_lexer": "ipython3",
   "version": "3.9.7"
  }
 },
 "nbformat": 4,
 "nbformat_minor": 5
}
