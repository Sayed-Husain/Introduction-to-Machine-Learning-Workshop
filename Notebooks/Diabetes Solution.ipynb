{
 "cells": [
  {
   "cell_type": "markdown",
   "id": "a5e30bf6",
   "metadata": {},
   "source": [
    "# Diabetes Exercise Notebook\n",
    "\n",
    "> This notebook contains the Solution version of the Diabestes problem\n",
    "\n",
    " This dataset contains data from diabetic patients and contains certain features such as their bmi, age , blood pressure and glucose levels which are useful in predicting the diabetes disease progression in patients.\n",
    "\n",
    "The dataset that we are using in this notebook is the diabetes dataset taken from scikit-learn datasets\n",
    "\n",
    "**Your Goal is to get score of 0.4 or higher**"
   ]
  },
  {
   "cell_type": "markdown",
   "id": "36a6e78b",
   "metadata": {},
   "source": [
    "## Understand the dataset\n",
    "Attribute Information:\n",
    "1. **age** - age in years\n",
    "2. **sex**\n",
    "3. **bmi** - body mass index\n",
    "4. **bp** - average blood pressure\n",
    "5. **s1** - tc, total serum cholesterol\n",
    "6. **s2** - ldl, low-density lipoproteins\n",
    "7. **s3** - hdl, high-density lipoproteins\n",
    "8. **s4** - tch, total cholesterol/HDL\n",
    "9. **s5** - ltg, possibly log of serum triglycerides level\n",
    "10. **s6** - glu, blood sugar level\n",
    "\n",
    "Target = a quantitative measure of disease progression one year after baseline"
   ]
  },
  {
   "cell_type": "markdown",
   "id": "e96af80d",
   "metadata": {},
   "source": [
    "## Import the libraries\n",
    "Importing the Data Science and Machine Learning libraries\n",
    "\n",
    "* Pandas as pd\n",
    "* Numpy as np\n",
    "* Matplotlib as plt\n",
    "* Scikit-learn"
   ]
  },
  {
   "cell_type": "code",
   "execution_count": 1,
   "id": "edd38ca9",
   "metadata": {},
   "outputs": [],
   "source": [
    "# Import libraries\n",
    "import pandas as pd \n",
    "import numpy as np\n",
    "import matplotlib.pyplot as plt"
   ]
  },
  {
   "cell_type": "code",
   "execution_count": 2,
   "id": "7eb63512",
   "metadata": {},
   "outputs": [],
   "source": [
    "# Import the dataset and assign it to the variable df\n",
    "from sklearn.datasets import load_diabetes\n",
    "df = load_diabetes()"
   ]
  },
  {
   "cell_type": "code",
   "execution_count": 3,
   "id": "7ce8f32e",
   "metadata": {},
   "outputs": [
    {
     "data": {
      "text/plain": [
       "442"
      ]
     },
     "execution_count": 3,
     "metadata": {},
     "output_type": "execute_result"
    }
   ],
   "source": [
    "# Check for the length of the dataset\n",
    "len(df.target)"
   ]
  },
  {
   "cell_type": "markdown",
   "id": "14257b5d",
   "metadata": {},
   "source": [
    "## Create the X and y variables"
   ]
  },
  {
   "cell_type": "code",
   "execution_count": 4,
   "id": "054a1b7e",
   "metadata": {},
   "outputs": [],
   "source": [
    "# Make the X and y variables\n",
    "X = df.data\n",
    "y = df.target"
   ]
  },
  {
   "cell_type": "markdown",
   "id": "0e2cf145",
   "metadata": {},
   "source": [
    "## Create the training and testing datasets"
   ]
  },
  {
   "cell_type": "code",
   "execution_count": 5,
   "id": "59500493",
   "metadata": {},
   "outputs": [],
   "source": [
    "np.random.seed(42)\n",
    "\n",
    "# Import the train_test_split() function from sckit-learn\n",
    "from sklearn.model_selection import train_test_split\n",
    "\n",
    "\n",
    "# Use the train_test_function() function to split the dataset\n",
    "X_train, X_test, y_train, y_test = train_test_split(X, y, test_size=0.2)"
   ]
  },
  {
   "cell_type": "code",
   "execution_count": 6,
   "id": "5a7b14d3",
   "metadata": {},
   "outputs": [
    {
     "data": {
      "text/plain": [
       "(353, 89)"
      ]
     },
     "execution_count": 6,
     "metadata": {},
     "output_type": "execute_result"
    }
   ],
   "source": [
    "# Check the length of the training and testing sets\n",
    "len(X_train), len(X_test)"
   ]
  },
  {
   "cell_type": "markdown",
   "id": "ab4cafd1",
   "metadata": {},
   "source": [
    "## Make the model\n",
    "\n",
    "As we have the training and testing datasets ready, it is time to make the model.\n",
    "\n",
    "As this is a regression problem, we will use the `RandomForestRegressor()` model"
   ]
  },
  {
   "cell_type": "code",
   "execution_count": 7,
   "id": "fb9b3792",
   "metadata": {},
   "outputs": [
    {
     "data": {
      "text/plain": [
       "0.44409093042429393"
      ]
     },
     "execution_count": 7,
     "metadata": {},
     "output_type": "execute_result"
    }
   ],
   "source": [
    "np.random.seed(42)\n",
    "\n",
    "# Import the model from scikit-learn library \n",
    "from sklearn.ensemble import RandomForestRegressor\n",
    "\n",
    "# Make the model\n",
    "model = RandomForestRegressor()\n",
    "\n",
    "# Train the model\n",
    "model.fit(X_train, y_train)\n",
    "\n",
    "# Evaluate the model\n",
    "model.score(X_test, y_test)"
   ]
  }
 ],
 "metadata": {
  "kernelspec": {
   "display_name": "Python 3 (ipykernel)",
   "language": "python",
   "name": "python3"
  },
  "language_info": {
   "codemirror_mode": {
    "name": "ipython",
    "version": 3
   },
   "file_extension": ".py",
   "mimetype": "text/x-python",
   "name": "python",
   "nbconvert_exporter": "python",
   "pygments_lexer": "ipython3",
   "version": "3.9.7"
  }
 },
 "nbformat": 4,
 "nbformat_minor": 5
}
