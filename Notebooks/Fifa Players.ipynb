{
 "cells": [
  {
   "cell_type": "markdown",
   "id": "cad2e10f",
   "metadata": {},
   "source": [
    "# Fifa Players Notebook\n",
    "\n",
    "> In this Notebook, we are going to explore the Offical Fifa players dataset and learn the main functionalities of the Pandas, NumPy, and Matplotlib libraries."
   ]
  },
  {
   "cell_type": "markdown",
   "id": "8e890a8f",
   "metadata": {},
   "source": [
    "## Pandas Library\n",
    "\n",
    "The pandas library is a library used for Data Manipulation and Analysis.\n",
    "\n",
    "A common practice in the Data Science and Machine Learning community to import the pandas library as `pd` for short."
   ]
  },
  {
   "cell_type": "code",
   "execution_count": 1,
   "id": "662350ef",
   "metadata": {},
   "outputs": [],
   "source": [
    "# Import the library\n",
    "import pandas as pd"
   ]
  },
  {
   "cell_type": "markdown",
   "id": "1257c0aa",
   "metadata": {},
   "source": [
    "The padnas library has two types of Data:\n",
    "\n",
    "1. The `Series` - which represents a single row of the table, or simply a list of values, in many cases, it is swapable with python list.\n",
    "\n",
    "\n",
    "2. The `DataFrame` - which represets an entire table.\n",
    "\n",
    "\n",
    "\n",
    "\n",
    "| Series | DataFrame|\n",
    "|:---: | :---:|\n",
    "|**1 Dimensional** | **2 Dimensional**|\n",
    "|Less Common to use | More common to use|\n",
    "|Created using `pd.Series()` | Created using `pd.DataFrame()`\n",
    "|Based On Numpy Arrays | Based on Numpy Array|\n",
    "|In some cases, swapable with Python's list `[]` | Lists within Dictionary `{column_name : []}`\n"
   ]
  },
  {
   "cell_type": "code",
   "execution_count": 2,
   "id": "926a42cb",
   "metadata": {},
   "outputs": [],
   "source": [
    "# Create a pandas DataFrame\n",
    "game_shop = pd.DataFrame({\"Product name\": [\"doll\", \"PS5\", \"PS4\", \"PS3\", \"PS2\", \"PS1\", \"PSP\"],\n",
    "                          \"Product Price (BD)\": [5, 250, 100, 35, 20, 20, 60],\n",
    "                          \"Available QNT\": [20, 0, 10, 0, 0, 0, 0]})"
   ]
  },
  {
   "cell_type": "code",
   "execution_count": 3,
   "id": "38ecb7a4",
   "metadata": {},
   "outputs": [
    {
     "data": {
      "text/html": [
       "<div>\n",
       "<style scoped>\n",
       "    .dataframe tbody tr th:only-of-type {\n",
       "        vertical-align: middle;\n",
       "    }\n",
       "\n",
       "    .dataframe tbody tr th {\n",
       "        vertical-align: top;\n",
       "    }\n",
       "\n",
       "    .dataframe thead th {\n",
       "        text-align: right;\n",
       "    }\n",
       "</style>\n",
       "<table border=\"1\" class=\"dataframe\">\n",
       "  <thead>\n",
       "    <tr style=\"text-align: right;\">\n",
       "      <th></th>\n",
       "      <th>Product name</th>\n",
       "      <th>Product Price (BD)</th>\n",
       "      <th>Available QNT</th>\n",
       "    </tr>\n",
       "  </thead>\n",
       "  <tbody>\n",
       "    <tr>\n",
       "      <th>0</th>\n",
       "      <td>doll</td>\n",
       "      <td>5</td>\n",
       "      <td>20</td>\n",
       "    </tr>\n",
       "    <tr>\n",
       "      <th>1</th>\n",
       "      <td>PS5</td>\n",
       "      <td>250</td>\n",
       "      <td>0</td>\n",
       "    </tr>\n",
       "    <tr>\n",
       "      <th>2</th>\n",
       "      <td>PS4</td>\n",
       "      <td>100</td>\n",
       "      <td>10</td>\n",
       "    </tr>\n",
       "    <tr>\n",
       "      <th>3</th>\n",
       "      <td>PS3</td>\n",
       "      <td>35</td>\n",
       "      <td>0</td>\n",
       "    </tr>\n",
       "    <tr>\n",
       "      <th>4</th>\n",
       "      <td>PS2</td>\n",
       "      <td>20</td>\n",
       "      <td>0</td>\n",
       "    </tr>\n",
       "    <tr>\n",
       "      <th>5</th>\n",
       "      <td>PS1</td>\n",
       "      <td>20</td>\n",
       "      <td>0</td>\n",
       "    </tr>\n",
       "    <tr>\n",
       "      <th>6</th>\n",
       "      <td>PSP</td>\n",
       "      <td>60</td>\n",
       "      <td>0</td>\n",
       "    </tr>\n",
       "  </tbody>\n",
       "</table>\n",
       "</div>"
      ],
      "text/plain": [
       "  Product name  Product Price (BD)  Available QNT\n",
       "0         doll                   5             20\n",
       "1          PS5                 250              0\n",
       "2          PS4                 100             10\n",
       "3          PS3                  35              0\n",
       "4          PS2                  20              0\n",
       "5          PS1                  20              0\n",
       "6          PSP                  60              0"
      ]
     },
     "execution_count": 3,
     "metadata": {},
     "output_type": "execute_result"
    }
   ],
   "source": [
    "# Let's view the DataFrame\n",
    "game_shop"
   ]
  },
  {
   "cell_type": "code",
   "execution_count": 4,
   "id": "7b5f5f2d",
   "metadata": {},
   "outputs": [
    {
     "data": {
      "text/plain": [
       "0    doll\n",
       "1     PS5\n",
       "2     PS4\n",
       "3     PS3\n",
       "4     PS2\n",
       "5     PS1\n",
       "6     PSP\n",
       "Name: Product name, dtype: object"
      ]
     },
     "execution_count": 4,
     "metadata": {},
     "output_type": "execute_result"
    }
   ],
   "source": [
    "# Let's view all products we have\n",
    "game_shop[\"Product name\"]"
   ]
  },
  {
   "cell_type": "code",
   "execution_count": 5,
   "id": "21d7f8d7",
   "metadata": {},
   "outputs": [
    {
     "data": {
      "text/html": [
       "<div>\n",
       "<style scoped>\n",
       "    .dataframe tbody tr th:only-of-type {\n",
       "        vertical-align: middle;\n",
       "    }\n",
       "\n",
       "    .dataframe tbody tr th {\n",
       "        vertical-align: top;\n",
       "    }\n",
       "\n",
       "    .dataframe thead th {\n",
       "        text-align: right;\n",
       "    }\n",
       "</style>\n",
       "<table border=\"1\" class=\"dataframe\">\n",
       "  <thead>\n",
       "    <tr style=\"text-align: right;\">\n",
       "      <th></th>\n",
       "      <th>Product name</th>\n",
       "      <th>Product Price (BD)</th>\n",
       "      <th>Available QNT</th>\n",
       "    </tr>\n",
       "  </thead>\n",
       "  <tbody>\n",
       "    <tr>\n",
       "      <th>0</th>\n",
       "      <td>doll</td>\n",
       "      <td>5</td>\n",
       "      <td>20</td>\n",
       "    </tr>\n",
       "    <tr>\n",
       "      <th>1</th>\n",
       "      <td>PS5</td>\n",
       "      <td>250</td>\n",
       "      <td>0</td>\n",
       "    </tr>\n",
       "    <tr>\n",
       "      <th>2</th>\n",
       "      <td>PS4</td>\n",
       "      <td>100</td>\n",
       "      <td>10</td>\n",
       "    </tr>\n",
       "    <tr>\n",
       "      <th>3</th>\n",
       "      <td>PS3</td>\n",
       "      <td>35</td>\n",
       "      <td>0</td>\n",
       "    </tr>\n",
       "    <tr>\n",
       "      <th>4</th>\n",
       "      <td>PS2</td>\n",
       "      <td>20</td>\n",
       "      <td>0</td>\n",
       "    </tr>\n",
       "  </tbody>\n",
       "</table>\n",
       "</div>"
      ],
      "text/plain": [
       "  Product name  Product Price (BD)  Available QNT\n",
       "0         doll                   5             20\n",
       "1          PS5                 250              0\n",
       "2          PS4                 100             10\n",
       "3          PS3                  35              0\n",
       "4          PS2                  20              0"
      ]
     },
     "execution_count": 5,
     "metadata": {},
     "output_type": "execute_result"
    }
   ],
   "source": [
    "# View the first row\n",
    "game_shop.head()"
   ]
  },
  {
   "cell_type": "markdown",
   "id": "e09a67bc",
   "metadata": {},
   "source": [
    "The `head()` method returns the first five rows of the DataFrame"
   ]
  },
  {
   "cell_type": "markdown",
   "id": "5559ca55",
   "metadata": {},
   "source": [
    ">If we have a dataset named `df` we can select any column by: `df[\"column name\"]`"
   ]
  },
  {
   "cell_type": "code",
   "execution_count": 6,
   "id": "146a8119",
   "metadata": {},
   "outputs": [
    {
     "data": {
      "text/plain": [
       "0    doll\n",
       "1     PS5\n",
       "2     PS4\n",
       "3     PS3\n",
       "4     PS2\n",
       "5     PS1\n",
       "6     PSP\n",
       "Name: Product name, dtype: object"
      ]
     },
     "execution_count": 6,
     "metadata": {},
     "output_type": "execute_result"
    }
   ],
   "source": [
    "# Select a column\n",
    "game_shop[\"Product name\"]"
   ]
  },
  {
   "cell_type": "markdown",
   "id": "d98eabbb",
   "metadata": {},
   "source": [
    "> If we have a dataset named `df`, we can select the first row by:\n",
    "`df.values[0]`"
   ]
  },
  {
   "cell_type": "code",
   "execution_count": 7,
   "id": "fce8455d",
   "metadata": {},
   "outputs": [
    {
     "data": {
      "text/plain": [
       "array(['doll', 5, 20], dtype=object)"
      ]
     },
     "execution_count": 7,
     "metadata": {},
     "output_type": "execute_result"
    }
   ],
   "source": [
    "game_shop.values[0]"
   ]
  },
  {
   "cell_type": "markdown",
   "id": "350251dc",
   "metadata": {},
   "source": [
    "To delete rows or columns\n",
    "\n",
    "we can use the `drop` method, and specify whether it is a row or a column\n",
    "if column, we need to pass `axis=1`\n",
    "\n",
    "> **Note**, this will create a new copy DataFrame instead of updating the older one"
   ]
  },
  {
   "cell_type": "code",
   "execution_count": 8,
   "id": "7f649b32",
   "metadata": {},
   "outputs": [
    {
     "data": {
      "text/html": [
       "<div>\n",
       "<style scoped>\n",
       "    .dataframe tbody tr th:only-of-type {\n",
       "        vertical-align: middle;\n",
       "    }\n",
       "\n",
       "    .dataframe tbody tr th {\n",
       "        vertical-align: top;\n",
       "    }\n",
       "\n",
       "    .dataframe thead th {\n",
       "        text-align: right;\n",
       "    }\n",
       "</style>\n",
       "<table border=\"1\" class=\"dataframe\">\n",
       "  <thead>\n",
       "    <tr style=\"text-align: right;\">\n",
       "      <th></th>\n",
       "      <th>Product name</th>\n",
       "      <th>Product Price (BD)</th>\n",
       "    </tr>\n",
       "  </thead>\n",
       "  <tbody>\n",
       "    <tr>\n",
       "      <th>0</th>\n",
       "      <td>doll</td>\n",
       "      <td>5</td>\n",
       "    </tr>\n",
       "    <tr>\n",
       "      <th>1</th>\n",
       "      <td>PS5</td>\n",
       "      <td>250</td>\n",
       "    </tr>\n",
       "    <tr>\n",
       "      <th>2</th>\n",
       "      <td>PS4</td>\n",
       "      <td>100</td>\n",
       "    </tr>\n",
       "    <tr>\n",
       "      <th>3</th>\n",
       "      <td>PS3</td>\n",
       "      <td>35</td>\n",
       "    </tr>\n",
       "    <tr>\n",
       "      <th>4</th>\n",
       "      <td>PS2</td>\n",
       "      <td>20</td>\n",
       "    </tr>\n",
       "    <tr>\n",
       "      <th>5</th>\n",
       "      <td>PS1</td>\n",
       "      <td>20</td>\n",
       "    </tr>\n",
       "    <tr>\n",
       "      <th>6</th>\n",
       "      <td>PSP</td>\n",
       "      <td>60</td>\n",
       "    </tr>\n",
       "  </tbody>\n",
       "</table>\n",
       "</div>"
      ],
      "text/plain": [
       "  Product name  Product Price (BD)\n",
       "0         doll                   5\n",
       "1          PS5                 250\n",
       "2          PS4                 100\n",
       "3          PS3                  35\n",
       "4          PS2                  20\n",
       "5          PS1                  20\n",
       "6          PSP                  60"
      ]
     },
     "execution_count": 8,
     "metadata": {},
     "output_type": "execute_result"
    }
   ],
   "source": [
    "# Delete a column\n",
    "game_shop = game_shop.drop(\"Available QNT\", axis=1)\n",
    "\n",
    "# View the updated DataFrame\n",
    "game_shop"
   ]
  },
  {
   "cell_type": "markdown",
   "id": "ee38972c",
   "metadata": {},
   "source": [
    "### Read a csv file\n",
    "\n",
    "Using pandas, we can read csv files using\n",
    "\n",
    "`pd.read_csv()`  and passing the url to to csv file"
   ]
  },
  {
   "cell_type": "code",
   "execution_count": 9,
   "id": "5f924905",
   "metadata": {},
   "outputs": [],
   "source": [
    "# Read the Fifa dataset from the internet and assign it to variable named df\n",
    "df = pd.read_csv(\"https://raw.githubusercontent.com/Sayed-Husain/Introduction-to-Machine-Learning-Workshop/main/Data/Fifa%20Dataset.csv\")"
   ]
  },
  {
   "cell_type": "code",
   "execution_count": 10,
   "id": "1dfa3298",
   "metadata": {},
   "outputs": [
    {
     "data": {
      "text/plain": [
       "19239"
      ]
     },
     "execution_count": 10,
     "metadata": {},
     "output_type": "execute_result"
    }
   ],
   "source": [
    "# Figure out the number of players in the DataFrame\n",
    "len(df)"
   ]
  },
  {
   "cell_type": "code",
   "execution_count": 11,
   "id": "47d38526",
   "metadata": {},
   "outputs": [
    {
     "data": {
      "text/html": [
       "<div>\n",
       "<style scoped>\n",
       "    .dataframe tbody tr th:only-of-type {\n",
       "        vertical-align: middle;\n",
       "    }\n",
       "\n",
       "    .dataframe tbody tr th {\n",
       "        vertical-align: top;\n",
       "    }\n",
       "\n",
       "    .dataframe thead th {\n",
       "        text-align: right;\n",
       "    }\n",
       "</style>\n",
       "<table border=\"1\" class=\"dataframe\">\n",
       "  <thead>\n",
       "    <tr style=\"text-align: right;\">\n",
       "      <th></th>\n",
       "      <th>short_name</th>\n",
       "      <th>player_positions</th>\n",
       "      <th>overall</th>\n",
       "      <th>potential</th>\n",
       "      <th>value_eur</th>\n",
       "      <th>wage_eur</th>\n",
       "      <th>age</th>\n",
       "      <th>height_cm</th>\n",
       "      <th>weight_kg</th>\n",
       "      <th>club_team_id</th>\n",
       "      <th>...</th>\n",
       "      <th>ldm</th>\n",
       "      <th>cdm</th>\n",
       "      <th>rdm</th>\n",
       "      <th>rwb</th>\n",
       "      <th>lb</th>\n",
       "      <th>lcb</th>\n",
       "      <th>cb</th>\n",
       "      <th>rcb</th>\n",
       "      <th>rb</th>\n",
       "      <th>gk</th>\n",
       "    </tr>\n",
       "  </thead>\n",
       "  <tbody>\n",
       "    <tr>\n",
       "      <th>0</th>\n",
       "      <td>L. Messi</td>\n",
       "      <td>RW, ST, CF</td>\n",
       "      <td>93</td>\n",
       "      <td>93</td>\n",
       "      <td>78000000.0</td>\n",
       "      <td>320000.0</td>\n",
       "      <td>34</td>\n",
       "      <td>170</td>\n",
       "      <td>72</td>\n",
       "      <td>73.0</td>\n",
       "      <td>...</td>\n",
       "      <td>64</td>\n",
       "      <td>64</td>\n",
       "      <td>64</td>\n",
       "      <td>66</td>\n",
       "      <td>61</td>\n",
       "      <td>50</td>\n",
       "      <td>50</td>\n",
       "      <td>50</td>\n",
       "      <td>61</td>\n",
       "      <td>19</td>\n",
       "    </tr>\n",
       "    <tr>\n",
       "      <th>1</th>\n",
       "      <td>R. Lewandowski</td>\n",
       "      <td>ST</td>\n",
       "      <td>92</td>\n",
       "      <td>92</td>\n",
       "      <td>119500000.0</td>\n",
       "      <td>270000.0</td>\n",
       "      <td>32</td>\n",
       "      <td>185</td>\n",
       "      <td>81</td>\n",
       "      <td>21.0</td>\n",
       "      <td>...</td>\n",
       "      <td>66</td>\n",
       "      <td>66</td>\n",
       "      <td>66</td>\n",
       "      <td>64</td>\n",
       "      <td>61</td>\n",
       "      <td>60</td>\n",
       "      <td>60</td>\n",
       "      <td>60</td>\n",
       "      <td>61</td>\n",
       "      <td>19</td>\n",
       "    </tr>\n",
       "    <tr>\n",
       "      <th>2</th>\n",
       "      <td>Cristiano Ronaldo</td>\n",
       "      <td>ST, LW</td>\n",
       "      <td>91</td>\n",
       "      <td>91</td>\n",
       "      <td>45000000.0</td>\n",
       "      <td>270000.0</td>\n",
       "      <td>36</td>\n",
       "      <td>187</td>\n",
       "      <td>83</td>\n",
       "      <td>11.0</td>\n",
       "      <td>...</td>\n",
       "      <td>59</td>\n",
       "      <td>59</td>\n",
       "      <td>59</td>\n",
       "      <td>63</td>\n",
       "      <td>60</td>\n",
       "      <td>53</td>\n",
       "      <td>53</td>\n",
       "      <td>53</td>\n",
       "      <td>60</td>\n",
       "      <td>20</td>\n",
       "    </tr>\n",
       "    <tr>\n",
       "      <th>3</th>\n",
       "      <td>Neymar Jr</td>\n",
       "      <td>LW, CAM</td>\n",
       "      <td>91</td>\n",
       "      <td>91</td>\n",
       "      <td>129000000.0</td>\n",
       "      <td>270000.0</td>\n",
       "      <td>29</td>\n",
       "      <td>175</td>\n",
       "      <td>68</td>\n",
       "      <td>73.0</td>\n",
       "      <td>...</td>\n",
       "      <td>63</td>\n",
       "      <td>63</td>\n",
       "      <td>63</td>\n",
       "      <td>67</td>\n",
       "      <td>62</td>\n",
       "      <td>50</td>\n",
       "      <td>50</td>\n",
       "      <td>50</td>\n",
       "      <td>62</td>\n",
       "      <td>20</td>\n",
       "    </tr>\n",
       "    <tr>\n",
       "      <th>4</th>\n",
       "      <td>K. De Bruyne</td>\n",
       "      <td>CM, CAM</td>\n",
       "      <td>91</td>\n",
       "      <td>91</td>\n",
       "      <td>125500000.0</td>\n",
       "      <td>350000.0</td>\n",
       "      <td>30</td>\n",
       "      <td>181</td>\n",
       "      <td>70</td>\n",
       "      <td>10.0</td>\n",
       "      <td>...</td>\n",
       "      <td>80</td>\n",
       "      <td>80</td>\n",
       "      <td>80</td>\n",
       "      <td>79</td>\n",
       "      <td>75</td>\n",
       "      <td>69</td>\n",
       "      <td>69</td>\n",
       "      <td>69</td>\n",
       "      <td>75</td>\n",
       "      <td>21</td>\n",
       "    </tr>\n",
       "  </tbody>\n",
       "</table>\n",
       "<p>5 rows × 93 columns</p>\n",
       "</div>"
      ],
      "text/plain": [
       "          short_name player_positions  overall  potential    value_eur  \\\n",
       "0           L. Messi       RW, ST, CF       93         93   78000000.0   \n",
       "1     R. Lewandowski               ST       92         92  119500000.0   \n",
       "2  Cristiano Ronaldo           ST, LW       91         91   45000000.0   \n",
       "3          Neymar Jr          LW, CAM       91         91  129000000.0   \n",
       "4       K. De Bruyne          CM, CAM       91         91  125500000.0   \n",
       "\n",
       "   wage_eur  age  height_cm  weight_kg  club_team_id  ... ldm cdm  rdm rwb  \\\n",
       "0  320000.0   34        170         72          73.0  ...  64  64   64  66   \n",
       "1  270000.0   32        185         81          21.0  ...  66  66   66  64   \n",
       "2  270000.0   36        187         83          11.0  ...  59  59   59  63   \n",
       "3  270000.0   29        175         68          73.0  ...  63  63   63  67   \n",
       "4  350000.0   30        181         70          10.0  ...  80  80   80  79   \n",
       "\n",
       "   lb lcb  cb  rcb  rb  gk  \n",
       "0  61  50  50   50  61  19  \n",
       "1  61  60  60   60  61  19  \n",
       "2  60  53  53   53  60  20  \n",
       "3  62  50  50   50  62  20  \n",
       "4  75  69  69   69  75  21  \n",
       "\n",
       "[5 rows x 93 columns]"
      ]
     },
     "execution_count": 11,
     "metadata": {},
     "output_type": "execute_result"
    }
   ],
   "source": [
    "# Show the first five rows of the DataFrame\n",
    "df.head()"
   ]
  },
  {
   "cell_type": "code",
   "execution_count": 12,
   "id": "df93001b",
   "metadata": {},
   "outputs": [
    {
     "data": {
      "text/plain": [
       "array(['short_name', 'player_positions', 'overall', 'potential',\n",
       "       'value_eur', 'wage_eur', 'age', 'height_cm', 'weight_kg',\n",
       "       'club_team_id', 'club_name', 'league_name', 'league_level',\n",
       "       'club_position', 'club_jersey_number', 'club_joined',\n",
       "       'club_contract_valid_until', 'nationality_id', 'nationality_name',\n",
       "       'preferred_foot', 'weak_foot', 'skill_moves',\n",
       "       'international_reputation', 'work_rate', 'release_clause_eur',\n",
       "       'player_traits', 'pace', 'shooting', 'passing', 'dribbling',\n",
       "       'defending', 'physic', 'attacking_crossing', 'attacking_finishing',\n",
       "       'attacking_heading_accuracy', 'attacking_short_passing',\n",
       "       'attacking_volleys', 'skill_dribbling', 'skill_curve',\n",
       "       'skill_fk_accuracy', 'skill_long_passing', 'skill_ball_control',\n",
       "       'movement_acceleration', 'movement_sprint_speed',\n",
       "       'movement_agility', 'movement_reactions', 'movement_balance',\n",
       "       'power_shot_power', 'power_jumping', 'power_stamina',\n",
       "       'power_strength', 'power_long_shots', 'mentality_aggression',\n",
       "       'mentality_interceptions', 'mentality_positioning',\n",
       "       'mentality_vision', 'mentality_penalties', 'mentality_composure',\n",
       "       'defending_marking_awareness', 'defending_standing_tackle',\n",
       "       'defending_sliding_tackle', 'goalkeeping_diving',\n",
       "       'goalkeeping_handling', 'goalkeeping_kicking',\n",
       "       'goalkeeping_positioning', 'goalkeeping_reflexes', 'ls', 'st',\n",
       "       'rs', 'lw', 'lf', 'cf', 'rf', 'rw', 'lam', 'cam', 'ram', 'lm',\n",
       "       'lcm', 'cm', 'rcm', 'rm', 'lwb', 'ldm', 'cdm', 'rdm', 'rwb', 'lb',\n",
       "       'lcb', 'cb', 'rcb', 'rb', 'gk'], dtype=object)"
      ]
     },
     "execution_count": 12,
     "metadata": {},
     "output_type": "execute_result"
    }
   ],
   "source": [
    "# Show the names of the columns of the DataFrame\n",
    "df.columns.values"
   ]
  },
  {
   "cell_type": "code",
   "execution_count": 13,
   "id": "1adb9bd7",
   "metadata": {},
   "outputs": [
    {
     "data": {
      "text/plain": [
       "93"
      ]
     },
     "execution_count": 13,
     "metadata": {},
     "output_type": "execute_result"
    }
   ],
   "source": [
    "# Show the number of columns in the DataFrame\n",
    "len(df.columns.values)"
   ]
  },
  {
   "cell_type": "markdown",
   "id": "aa27fbf9",
   "metadata": {},
   "source": [
    "As you can see, this is a huge dataset, and for expermentation, we probably dont need all of those columns.\n",
    "\n",
    "Let's define our experiments\n",
    "\n",
    "1. Find out who are the best players in the world (Messi vs CR7?)\n",
    "2. Find the highest and lowest BMI (weight to height ratio) between players\n",
    "3. Best player to invest/buy in (low wage for great value)"
   ]
  },
  {
   "cell_type": "markdown",
   "id": "682511a2",
   "metadata": {},
   "source": [
    "### Best Player in the world\n",
    "\n",
    "For this experiment, we do not need the entire dataset, we only need the following columns:\n",
    "1. `short_name` - The player name\n",
    "2. `overall` - The player's overall score\n",
    "3. `potential` - The players potential\n",
    "\n",
    "Therefore, we will create a new DataFrame (`best_players`) only containing these columns"
   ]
  },
  {
   "cell_type": "code",
   "execution_count": 14,
   "id": "e84cb7b5",
   "metadata": {},
   "outputs": [],
   "source": [
    "# Create the best_players DataFrame only containing the columns mentioned.\n",
    "best_players = pd.DataFrame(df, columns=[\"short_name\", \"overall\", \"potential\"])"
   ]
  },
  {
   "cell_type": "code",
   "execution_count": 15,
   "id": "017fbc0b",
   "metadata": {},
   "outputs": [
    {
     "data": {
      "text/html": [
       "<div>\n",
       "<style scoped>\n",
       "    .dataframe tbody tr th:only-of-type {\n",
       "        vertical-align: middle;\n",
       "    }\n",
       "\n",
       "    .dataframe tbody tr th {\n",
       "        vertical-align: top;\n",
       "    }\n",
       "\n",
       "    .dataframe thead th {\n",
       "        text-align: right;\n",
       "    }\n",
       "</style>\n",
       "<table border=\"1\" class=\"dataframe\">\n",
       "  <thead>\n",
       "    <tr style=\"text-align: right;\">\n",
       "      <th></th>\n",
       "      <th>short_name</th>\n",
       "      <th>overall</th>\n",
       "      <th>potential</th>\n",
       "    </tr>\n",
       "  </thead>\n",
       "  <tbody>\n",
       "    <tr>\n",
       "      <th>0</th>\n",
       "      <td>L. Messi</td>\n",
       "      <td>93</td>\n",
       "      <td>93</td>\n",
       "    </tr>\n",
       "    <tr>\n",
       "      <th>1</th>\n",
       "      <td>R. Lewandowski</td>\n",
       "      <td>92</td>\n",
       "      <td>92</td>\n",
       "    </tr>\n",
       "    <tr>\n",
       "      <th>2</th>\n",
       "      <td>Cristiano Ronaldo</td>\n",
       "      <td>91</td>\n",
       "      <td>91</td>\n",
       "    </tr>\n",
       "    <tr>\n",
       "      <th>3</th>\n",
       "      <td>Neymar Jr</td>\n",
       "      <td>91</td>\n",
       "      <td>91</td>\n",
       "    </tr>\n",
       "    <tr>\n",
       "      <th>4</th>\n",
       "      <td>K. De Bruyne</td>\n",
       "      <td>91</td>\n",
       "      <td>91</td>\n",
       "    </tr>\n",
       "  </tbody>\n",
       "</table>\n",
       "</div>"
      ],
      "text/plain": [
       "          short_name  overall  potential\n",
       "0           L. Messi       93         93\n",
       "1     R. Lewandowski       92         92\n",
       "2  Cristiano Ronaldo       91         91\n",
       "3          Neymar Jr       91         91\n",
       "4       K. De Bruyne       91         91"
      ]
     },
     "execution_count": 15,
     "metadata": {},
     "output_type": "execute_result"
    }
   ],
   "source": [
    "# View the first 5 rows of the data\n",
    "best_players.head()"
   ]
  },
  {
   "cell_type": "markdown",
   "id": "b631160d",
   "metadata": {},
   "source": [
    "Though it seems that the DataFrame is already sorted, let's gurantee it by sorting it."
   ]
  },
  {
   "cell_type": "code",
   "execution_count": 16,
   "id": "09b893e7",
   "metadata": {},
   "outputs": [],
   "source": [
    "# Sort the DataFrame\n",
    "best_players = best_players.sort_values(\"overall\", ascending=False)"
   ]
  },
  {
   "cell_type": "code",
   "execution_count": 17,
   "id": "20ea5109",
   "metadata": {},
   "outputs": [
    {
     "data": {
      "text/html": [
       "<div>\n",
       "<style scoped>\n",
       "    .dataframe tbody tr th:only-of-type {\n",
       "        vertical-align: middle;\n",
       "    }\n",
       "\n",
       "    .dataframe tbody tr th {\n",
       "        vertical-align: top;\n",
       "    }\n",
       "\n",
       "    .dataframe thead th {\n",
       "        text-align: right;\n",
       "    }\n",
       "</style>\n",
       "<table border=\"1\" class=\"dataframe\">\n",
       "  <thead>\n",
       "    <tr style=\"text-align: right;\">\n",
       "      <th></th>\n",
       "      <th>short_name</th>\n",
       "      <th>overall</th>\n",
       "      <th>potential</th>\n",
       "    </tr>\n",
       "  </thead>\n",
       "  <tbody>\n",
       "    <tr>\n",
       "      <th>0</th>\n",
       "      <td>L. Messi</td>\n",
       "      <td>93</td>\n",
       "      <td>93</td>\n",
       "    </tr>\n",
       "    <tr>\n",
       "      <th>1</th>\n",
       "      <td>R. Lewandowski</td>\n",
       "      <td>92</td>\n",
       "      <td>92</td>\n",
       "    </tr>\n",
       "    <tr>\n",
       "      <th>2</th>\n",
       "      <td>Cristiano Ronaldo</td>\n",
       "      <td>91</td>\n",
       "      <td>91</td>\n",
       "    </tr>\n",
       "    <tr>\n",
       "      <th>3</th>\n",
       "      <td>Neymar Jr</td>\n",
       "      <td>91</td>\n",
       "      <td>91</td>\n",
       "    </tr>\n",
       "    <tr>\n",
       "      <th>4</th>\n",
       "      <td>K. De Bruyne</td>\n",
       "      <td>91</td>\n",
       "      <td>91</td>\n",
       "    </tr>\n",
       "    <tr>\n",
       "      <th>5</th>\n",
       "      <td>J. Oblak</td>\n",
       "      <td>91</td>\n",
       "      <td>93</td>\n",
       "    </tr>\n",
       "    <tr>\n",
       "      <th>6</th>\n",
       "      <td>K. Mbappé</td>\n",
       "      <td>91</td>\n",
       "      <td>95</td>\n",
       "    </tr>\n",
       "    <tr>\n",
       "      <th>7</th>\n",
       "      <td>M. Neuer</td>\n",
       "      <td>90</td>\n",
       "      <td>90</td>\n",
       "    </tr>\n",
       "    <tr>\n",
       "      <th>8</th>\n",
       "      <td>M. ter Stegen</td>\n",
       "      <td>90</td>\n",
       "      <td>92</td>\n",
       "    </tr>\n",
       "    <tr>\n",
       "      <th>9</th>\n",
       "      <td>H. Kane</td>\n",
       "      <td>90</td>\n",
       "      <td>90</td>\n",
       "    </tr>\n",
       "  </tbody>\n",
       "</table>\n",
       "</div>"
      ],
      "text/plain": [
       "          short_name  overall  potential\n",
       "0           L. Messi       93         93\n",
       "1     R. Lewandowski       92         92\n",
       "2  Cristiano Ronaldo       91         91\n",
       "3          Neymar Jr       91         91\n",
       "4       K. De Bruyne       91         91\n",
       "5           J. Oblak       91         93\n",
       "6          K. Mbappé       91         95\n",
       "7           M. Neuer       90         90\n",
       "8      M. ter Stegen       90         92\n",
       "9            H. Kane       90         90"
      ]
     },
     "execution_count": 17,
     "metadata": {},
     "output_type": "execute_result"
    }
   ],
   "source": [
    "# View who are the best 10 players in the game\n",
    "best_players.head(10)"
   ]
  },
  {
   "cell_type": "markdown",
   "id": "c9f8d57f",
   "metadata": {},
   "source": [
    "Though we achieved our intended results and figured out who are the best players in the world, looking at a table is not fun. Threfore, lets take an extra step to visualize the data we gathered."
   ]
  },
  {
   "cell_type": "markdown",
   "id": "d3d8d61c",
   "metadata": {},
   "source": [
    "## Matplotlib\n",
    "\n",
    "The matplotlib library is a library used for Data visualization and plotting.\n",
    "\n",
    "A common practice in the Data Science and Machine Learning community to import the matplotlib.pyplot library as `plt` for short."
   ]
  },
  {
   "cell_type": "code",
   "execution_count": 18,
   "id": "7636b1b8",
   "metadata": {},
   "outputs": [],
   "source": [
    "# Import the matplotlib library\n",
    "import matplotlib.pyplot as plt"
   ]
  },
  {
   "cell_type": "markdown",
   "id": "c4a83719",
   "metadata": {},
   "source": [
    "let's visualize the best player in a line graph, first we will need:\n",
    "1. The `x` - representing the name of the player\n",
    "2. The `y` - represting the overall score of the player"
   ]
  },
  {
   "cell_type": "code",
   "execution_count": 19,
   "id": "a0fc0806",
   "metadata": {},
   "outputs": [],
   "source": [
    "# Make the x and y for the best 10 players in the world\n",
    "x = best_players[\"short_name\"].head(10)\n",
    "y = best_players[\"overall\"].head(10)"
   ]
  },
  {
   "cell_type": "markdown",
   "id": "fe6cfcfa",
   "metadata": {},
   "source": [
    "Now, we can plot the data,\n",
    "\n",
    "**Note**: For a better visualization, let's also state where at what values the y axis should start and end."
   ]
  },
  {
   "cell_type": "code",
   "execution_count": 20,
   "id": "24c20cc5",
   "metadata": {},
   "outputs": [
    {
     "data": {
      "text/plain": [
       "(88.0, 95.0)"
      ]
     },
     "execution_count": 20,
     "metadata": {},
     "output_type": "execute_result"
    },
    {
     "data": {
      "image/png": "[encoded data removed]",
      "text/plain": [
       "<Figure size 1440x360 with 1 Axes>"
      ]
     },
     "metadata": {
      "needs_background": "light"
     },
     "output_type": "display_data"
    }
   ],
   "source": [
    "# Plot the data as line graph\n",
    "plt.figure(figsize=(20,5)) # Set the size of the plot\n",
    "plt.plot(x, y) # Plot the data\n",
    "plt.ylim(88, 95) # Set the start and finish of the y axis"
   ]
  },
  {
   "cell_type": "code",
   "execution_count": 21,
   "id": "ca5519a8",
   "metadata": {},
   "outputs": [
    {
     "data": {
      "text/plain": [
       "Text(0.5, 1.0, 'The Best 10 Players in the world')"
      ]
     },
     "execution_count": 21,
     "metadata": {},
     "output_type": "execute_result"
    },
    {
     "data": {
      "image/png": "[encoded data removed]",
      "text/plain": [
       "<Figure size 1440x360 with 1 Axes>"
      ]
     },
     "metadata": {
      "needs_background": "light"
     },
     "output_type": "display_data"
    }
   ],
   "source": [
    "# Plot the data as bar graph\n",
    "plt.figure(figsize=(20,5)) # Set the size of the plot\n",
    "plt.bar(x, y) # Plot the data\n",
    "plt.ylim(88, 95) # Set the start and finish of the y axis\n",
    "plt.title(\"The Best 10 Players in the world\")"
   ]
  },
  {
   "cell_type": "markdown",
   "id": "511199fb",
   "metadata": {},
   "source": [
    "## Highest and lowest BMI\n",
    "\n",
    "For this experiment, the columns we need to get are:\n",
    "`short_name` and the `BMI`. \n",
    "\n",
    "However, the original dataset does not have a `BMI` coulmn, therefore, we are going to make our own using the `height_cm` and the `weight_kg` columns.\n",
    "\n",
    "BMI = weight(kg)/height(m)^2\n",
    "\n",
    "Therefore, we will make a new DataFrame `players_BMI` containing the following columns from the original dataset:\n",
    "1. `short_name`\n",
    "2. `height_cm`\n",
    "3. `weight_kg`"
   ]
  },
  {
   "cell_type": "code",
   "execution_count": 22,
   "id": "6149135b",
   "metadata": {},
   "outputs": [
    {
     "data": {
      "text/html": [
       "<div>\n",
       "<style scoped>\n",
       "    .dataframe tbody tr th:only-of-type {\n",
       "        vertical-align: middle;\n",
       "    }\n",
       "\n",
       "    .dataframe tbody tr th {\n",
       "        vertical-align: top;\n",
       "    }\n",
       "\n",
       "    .dataframe thead th {\n",
       "        text-align: right;\n",
       "    }\n",
       "</style>\n",
       "<table border=\"1\" class=\"dataframe\">\n",
       "  <thead>\n",
       "    <tr style=\"text-align: right;\">\n",
       "      <th></th>\n",
       "      <th>short_name</th>\n",
       "      <th>height_cm</th>\n",
       "      <th>weight_kg</th>\n",
       "    </tr>\n",
       "  </thead>\n",
       "  <tbody>\n",
       "    <tr>\n",
       "      <th>0</th>\n",
       "      <td>L. Messi</td>\n",
       "      <td>170</td>\n",
       "      <td>72</td>\n",
       "    </tr>\n",
       "    <tr>\n",
       "      <th>1</th>\n",
       "      <td>R. Lewandowski</td>\n",
       "      <td>185</td>\n",
       "      <td>81</td>\n",
       "    </tr>\n",
       "    <tr>\n",
       "      <th>2</th>\n",
       "      <td>Cristiano Ronaldo</td>\n",
       "      <td>187</td>\n",
       "      <td>83</td>\n",
       "    </tr>\n",
       "    <tr>\n",
       "      <th>3</th>\n",
       "      <td>Neymar Jr</td>\n",
       "      <td>175</td>\n",
       "      <td>68</td>\n",
       "    </tr>\n",
       "    <tr>\n",
       "      <th>4</th>\n",
       "      <td>K. De Bruyne</td>\n",
       "      <td>181</td>\n",
       "      <td>70</td>\n",
       "    </tr>\n",
       "  </tbody>\n",
       "</table>\n",
       "</div>"
      ],
      "text/plain": [
       "          short_name  height_cm  weight_kg\n",
       "0           L. Messi        170         72\n",
       "1     R. Lewandowski        185         81\n",
       "2  Cristiano Ronaldo        187         83\n",
       "3          Neymar Jr        175         68\n",
       "4       K. De Bruyne        181         70"
      ]
     },
     "execution_count": 22,
     "metadata": {},
     "output_type": "execute_result"
    }
   ],
   "source": [
    "# Create the players_BMI DataFrame containing the columns mentioned \n",
    "players_BMI = pd.DataFrame(df, columns=[\"short_name\", \"height_cm\", \"weight_kg\"])\n",
    "\n",
    "# View the new DataFrame\n",
    "players_BMI.head()"
   ]
  },
  {
   "cell_type": "markdown",
   "id": "3d710949",
   "metadata": {},
   "source": [
    "## Numpy\n",
    "\n",
    "If we select a column name that is already there in the DataFrame, a new column will be craeted with the set values.\n",
    "\n",
    "We will create a `BMI` column by deviding the `weight_kg` by the square of `height_cm`/100\n",
    "\n",
    "in order to make these mathematical operations, we will need the help of the Numpy library. \n",
    "\n",
    "A common practice in the Data Science and Machine Learning community to import the numpy library as `np` for short."
   ]
  },
  {
   "cell_type": "code",
   "execution_count": 23,
   "id": "f4512ac4",
   "metadata": {},
   "outputs": [],
   "source": [
    "# Import the numpy library\n",
    "import numpy as np"
   ]
  },
  {
   "cell_type": "code",
   "execution_count": 24,
   "id": "9ffb4f60",
   "metadata": {},
   "outputs": [
    {
     "data": {
      "text/html": [
       "<div>\n",
       "<style scoped>\n",
       "    .dataframe tbody tr th:only-of-type {\n",
       "        vertical-align: middle;\n",
       "    }\n",
       "\n",
       "    .dataframe tbody tr th {\n",
       "        vertical-align: top;\n",
       "    }\n",
       "\n",
       "    .dataframe thead th {\n",
       "        text-align: right;\n",
       "    }\n",
       "</style>\n",
       "<table border=\"1\" class=\"dataframe\">\n",
       "  <thead>\n",
       "    <tr style=\"text-align: right;\">\n",
       "      <th></th>\n",
       "      <th>short_name</th>\n",
       "      <th>height_cm</th>\n",
       "      <th>weight_kg</th>\n",
       "      <th>BMI</th>\n",
       "    </tr>\n",
       "  </thead>\n",
       "  <tbody>\n",
       "    <tr>\n",
       "      <th>0</th>\n",
       "      <td>L. Messi</td>\n",
       "      <td>170</td>\n",
       "      <td>72</td>\n",
       "      <td>24.913495</td>\n",
       "    </tr>\n",
       "    <tr>\n",
       "      <th>1</th>\n",
       "      <td>R. Lewandowski</td>\n",
       "      <td>185</td>\n",
       "      <td>81</td>\n",
       "      <td>23.666910</td>\n",
       "    </tr>\n",
       "    <tr>\n",
       "      <th>2</th>\n",
       "      <td>Cristiano Ronaldo</td>\n",
       "      <td>187</td>\n",
       "      <td>83</td>\n",
       "      <td>23.735308</td>\n",
       "    </tr>\n",
       "    <tr>\n",
       "      <th>3</th>\n",
       "      <td>Neymar Jr</td>\n",
       "      <td>175</td>\n",
       "      <td>68</td>\n",
       "      <td>22.204082</td>\n",
       "    </tr>\n",
       "    <tr>\n",
       "      <th>4</th>\n",
       "      <td>K. De Bruyne</td>\n",
       "      <td>181</td>\n",
       "      <td>70</td>\n",
       "      <td>21.366869</td>\n",
       "    </tr>\n",
       "  </tbody>\n",
       "</table>\n",
       "</div>"
      ],
      "text/plain": [
       "          short_name  height_cm  weight_kg        BMI\n",
       "0           L. Messi        170         72  24.913495\n",
       "1     R. Lewandowski        185         81  23.666910\n",
       "2  Cristiano Ronaldo        187         83  23.735308\n",
       "3          Neymar Jr        175         68  22.204082\n",
       "4       K. De Bruyne        181         70  21.366869"
      ]
     },
     "execution_count": 24,
     "metadata": {},
     "output_type": "execute_result"
    }
   ],
   "source": [
    "# Create a BMI column\n",
    "players_BMI[\"BMI\"] = players_BMI[\"weight_kg\"] / np.square(players_BMI[\"height_cm\"] / 100)\n",
    "\n",
    "# View the head of the DataFrame\n",
    "players_BMI.head()"
   ]
  },
  {
   "cell_type": "markdown",
   "id": "0b847cb0",
   "metadata": {},
   "source": [
    "Looking great so far.\n",
    "\n",
    "Now let's do two things:\n",
    "1. Find out who has the highest and lowest BMI in the game\n",
    "2. Get the highest BMI, the Lowest BMI, and the median BMI and plot them.\n",
    "\n",
    "**Find who has the Highest and Lowest BMI in the game**"
   ]
  },
  {
   "cell_type": "code",
   "execution_count": 25,
   "id": "5e1755cb",
   "metadata": {},
   "outputs": [
    {
     "data": {
      "text/html": [
       "<div>\n",
       "<style scoped>\n",
       "    .dataframe tbody tr th:only-of-type {\n",
       "        vertical-align: middle;\n",
       "    }\n",
       "\n",
       "    .dataframe tbody tr th {\n",
       "        vertical-align: top;\n",
       "    }\n",
       "\n",
       "    .dataframe thead th {\n",
       "        text-align: right;\n",
       "    }\n",
       "</style>\n",
       "<table border=\"1\" class=\"dataframe\">\n",
       "  <thead>\n",
       "    <tr style=\"text-align: right;\">\n",
       "      <th></th>\n",
       "      <th>short_name</th>\n",
       "      <th>height_cm</th>\n",
       "      <th>weight_kg</th>\n",
       "      <th>BMI</th>\n",
       "    </tr>\n",
       "  </thead>\n",
       "  <tbody>\n",
       "    <tr>\n",
       "      <th>9816</th>\n",
       "      <td>A. Akinfenwa</td>\n",
       "      <td>178</td>\n",
       "      <td>110</td>\n",
       "      <td>34.717839</td>\n",
       "    </tr>\n",
       "    <tr>\n",
       "      <th>2816</th>\n",
       "      <td>R. Ábila</td>\n",
       "      <td>176</td>\n",
       "      <td>93</td>\n",
       "      <td>30.023244</td>\n",
       "    </tr>\n",
       "    <tr>\n",
       "      <th>5113</th>\n",
       "      <td>S. Mosquera</td>\n",
       "      <td>168</td>\n",
       "      <td>84</td>\n",
       "      <td>29.761905</td>\n",
       "    </tr>\n",
       "    <tr>\n",
       "      <th>4931</th>\n",
       "      <td>G. Mhango</td>\n",
       "      <td>162</td>\n",
       "      <td>76</td>\n",
       "      <td>28.959000</td>\n",
       "    </tr>\n",
       "    <tr>\n",
       "      <th>11107</th>\n",
       "      <td>C. Seitz</td>\n",
       "      <td>193</td>\n",
       "      <td>107</td>\n",
       "      <td>28.725603</td>\n",
       "    </tr>\n",
       "    <tr>\n",
       "      <th>...</th>\n",
       "      <td>...</td>\n",
       "      <td>...</td>\n",
       "      <td>...</td>\n",
       "      <td>...</td>\n",
       "    </tr>\n",
       "    <tr>\n",
       "      <th>18548</th>\n",
       "      <td>J. Keeley</td>\n",
       "      <td>191</td>\n",
       "      <td>65</td>\n",
       "      <td>17.817494</td>\n",
       "    </tr>\n",
       "    <tr>\n",
       "      <th>19218</th>\n",
       "      <td>C. Mutawe</td>\n",
       "      <td>184</td>\n",
       "      <td>60</td>\n",
       "      <td>17.722117</td>\n",
       "    </tr>\n",
       "    <tr>\n",
       "      <th>9802</th>\n",
       "      <td>P. Ndiaye</td>\n",
       "      <td>203</td>\n",
       "      <td>71</td>\n",
       "      <td>17.229246</td>\n",
       "    </tr>\n",
       "    <tr>\n",
       "      <th>13156</th>\n",
       "      <td>E. Emegha</td>\n",
       "      <td>195</td>\n",
       "      <td>63</td>\n",
       "      <td>16.568047</td>\n",
       "    </tr>\n",
       "    <tr>\n",
       "      <th>12102</th>\n",
       "      <td>A. Stergiakis</td>\n",
       "      <td>196</td>\n",
       "      <td>60</td>\n",
       "      <td>15.618492</td>\n",
       "    </tr>\n",
       "  </tbody>\n",
       "</table>\n",
       "<p>19239 rows × 4 columns</p>\n",
       "</div>"
      ],
      "text/plain": [
       "          short_name  height_cm  weight_kg        BMI\n",
       "9816    A. Akinfenwa        178        110  34.717839\n",
       "2816        R. Ábila        176         93  30.023244\n",
       "5113     S. Mosquera        168         84  29.761905\n",
       "4931       G. Mhango        162         76  28.959000\n",
       "11107       C. Seitz        193        107  28.725603\n",
       "...              ...        ...        ...        ...\n",
       "18548      J. Keeley        191         65  17.817494\n",
       "19218      C. Mutawe        184         60  17.722117\n",
       "9802       P. Ndiaye        203         71  17.229246\n",
       "13156      E. Emegha        195         63  16.568047\n",
       "12102  A. Stergiakis        196         60  15.618492\n",
       "\n",
       "[19239 rows x 4 columns]"
      ]
     },
     "execution_count": 25,
     "metadata": {},
     "output_type": "execute_result"
    }
   ],
   "source": [
    "# Find the who has the highest and lowest BMI by sorting the DataFrame\n",
    "players_BMI.sort_values(\"BMI\", ascending=False)"
   ]
  },
  {
   "cell_type": "markdown",
   "id": "54b31ec9",
   "metadata": {},
   "source": [
    "**Plot the highest, lowest, and median BMIs**\n",
    "\n",
    "We can do this with the help of numpy library"
   ]
  },
  {
   "cell_type": "code",
   "execution_count": 26,
   "id": "324bad62",
   "metadata": {},
   "outputs": [],
   "source": [
    "# Find the max, min, and median values\n",
    "max_BMI = np.max(players_BMI[\"BMI\"])\n",
    "median_BMI = np.median(players_BMI[\"BMI\"])\n",
    "min_BMI = np.min(players_BMI[\"BMI\"])"
   ]
  },
  {
   "cell_type": "code",
   "execution_count": 27,
   "id": "df8894a7",
   "metadata": {},
   "outputs": [
    {
     "data": {
      "text/plain": [
       "Text(0.5, 1.0, 'BMI in the Football Game')"
      ]
     },
     "execution_count": 27,
     "metadata": {},
     "output_type": "execute_result"
    },
    {
     "data": {
      "image/png": "[encoded data removed]",
      "text/plain": [
       "<Figure size 720x360 with 1 Axes>"
      ]
     },
     "metadata": {
      "needs_background": "light"
     },
     "output_type": "display_data"
    }
   ],
   "source": [
    "# Plot the data\n",
    "plt.figure(figsize=(10,5))\n",
    "plt.barh([\"Max\", \"Median\", \"Min\"], [max_BMI, median_BMI, min_BMI])\n",
    "plt.title(\"BMI in the Football Game\")"
   ]
  },
  {
   "cell_type": "markdown",
   "id": "3ee5c516",
   "metadata": {},
   "source": [
    "### Best player to invest/buy \n",
    "\n",
    "We can find out which players are best to buy by subtracting the wage of the player from the value. The higher the number is, the better investment it is.\n",
    "\n",
    "Therefore, we only need the following columns:\n",
    "1. `short_name` - The player name \n",
    "2. `wage_eur` - The player's current wage\n",
    "3. `value_eur` - The player's actual value\n",
    "\n",
    "Therefore, we will create a new DataFrame (`players_investment`) only containing these columns"
   ]
  },
  {
   "cell_type": "code",
   "execution_count": 28,
   "id": "8b031bd7",
   "metadata": {},
   "outputs": [
    {
     "data": {
      "text/html": [
       "<div>\n",
       "<style scoped>\n",
       "    .dataframe tbody tr th:only-of-type {\n",
       "        vertical-align: middle;\n",
       "    }\n",
       "\n",
       "    .dataframe tbody tr th {\n",
       "        vertical-align: top;\n",
       "    }\n",
       "\n",
       "    .dataframe thead th {\n",
       "        text-align: right;\n",
       "    }\n",
       "</style>\n",
       "<table border=\"1\" class=\"dataframe\">\n",
       "  <thead>\n",
       "    <tr style=\"text-align: right;\">\n",
       "      <th></th>\n",
       "      <th>short_name</th>\n",
       "      <th>wage_eur</th>\n",
       "      <th>value_eur</th>\n",
       "    </tr>\n",
       "  </thead>\n",
       "  <tbody>\n",
       "    <tr>\n",
       "      <th>0</th>\n",
       "      <td>L. Messi</td>\n",
       "      <td>320000.0</td>\n",
       "      <td>78000000.0</td>\n",
       "    </tr>\n",
       "    <tr>\n",
       "      <th>1</th>\n",
       "      <td>R. Lewandowski</td>\n",
       "      <td>270000.0</td>\n",
       "      <td>119500000.0</td>\n",
       "    </tr>\n",
       "    <tr>\n",
       "      <th>2</th>\n",
       "      <td>Cristiano Ronaldo</td>\n",
       "      <td>270000.0</td>\n",
       "      <td>45000000.0</td>\n",
       "    </tr>\n",
       "    <tr>\n",
       "      <th>3</th>\n",
       "      <td>Neymar Jr</td>\n",
       "      <td>270000.0</td>\n",
       "      <td>129000000.0</td>\n",
       "    </tr>\n",
       "    <tr>\n",
       "      <th>4</th>\n",
       "      <td>K. De Bruyne</td>\n",
       "      <td>350000.0</td>\n",
       "      <td>125500000.0</td>\n",
       "    </tr>\n",
       "  </tbody>\n",
       "</table>\n",
       "</div>"
      ],
      "text/plain": [
       "          short_name  wage_eur    value_eur\n",
       "0           L. Messi  320000.0   78000000.0\n",
       "1     R. Lewandowski  270000.0  119500000.0\n",
       "2  Cristiano Ronaldo  270000.0   45000000.0\n",
       "3          Neymar Jr  270000.0  129000000.0\n",
       "4       K. De Bruyne  350000.0  125500000.0"
      ]
     },
     "execution_count": 28,
     "metadata": {},
     "output_type": "execute_result"
    }
   ],
   "source": [
    "# Create the players_investment DataFrame\n",
    "players_investment = pd.DataFrame(df, columns=[\"short_name\", \"wage_eur\", \"value_eur\"])\n",
    "\n",
    "# View the head of the DataFrame\n",
    "players_investment.head()"
   ]
  },
  {
   "cell_type": "code",
   "execution_count": 29,
   "id": "8ebd1a04",
   "metadata": {},
   "outputs": [
    {
     "data": {
      "text/html": [
       "<div>\n",
       "<style scoped>\n",
       "    .dataframe tbody tr th:only-of-type {\n",
       "        vertical-align: middle;\n",
       "    }\n",
       "\n",
       "    .dataframe tbody tr th {\n",
       "        vertical-align: top;\n",
       "    }\n",
       "\n",
       "    .dataframe thead th {\n",
       "        text-align: right;\n",
       "    }\n",
       "</style>\n",
       "<table border=\"1\" class=\"dataframe\">\n",
       "  <thead>\n",
       "    <tr style=\"text-align: right;\">\n",
       "      <th></th>\n",
       "      <th>short_name</th>\n",
       "      <th>wage_eur</th>\n",
       "      <th>value_eur</th>\n",
       "      <th>wage_bd</th>\n",
       "      <th>value_bd</th>\n",
       "    </tr>\n",
       "  </thead>\n",
       "  <tbody>\n",
       "    <tr>\n",
       "      <th>0</th>\n",
       "      <td>L. Messi</td>\n",
       "      <td>320000.0</td>\n",
       "      <td>78000000.0</td>\n",
       "      <td>121600.0</td>\n",
       "      <td>29640000.0</td>\n",
       "    </tr>\n",
       "    <tr>\n",
       "      <th>1</th>\n",
       "      <td>R. Lewandowski</td>\n",
       "      <td>270000.0</td>\n",
       "      <td>119500000.0</td>\n",
       "      <td>102600.0</td>\n",
       "      <td>45410000.0</td>\n",
       "    </tr>\n",
       "    <tr>\n",
       "      <th>2</th>\n",
       "      <td>Cristiano Ronaldo</td>\n",
       "      <td>270000.0</td>\n",
       "      <td>45000000.0</td>\n",
       "      <td>102600.0</td>\n",
       "      <td>17100000.0</td>\n",
       "    </tr>\n",
       "    <tr>\n",
       "      <th>3</th>\n",
       "      <td>Neymar Jr</td>\n",
       "      <td>270000.0</td>\n",
       "      <td>129000000.0</td>\n",
       "      <td>102600.0</td>\n",
       "      <td>49020000.0</td>\n",
       "    </tr>\n",
       "    <tr>\n",
       "      <th>4</th>\n",
       "      <td>K. De Bruyne</td>\n",
       "      <td>350000.0</td>\n",
       "      <td>125500000.0</td>\n",
       "      <td>133000.0</td>\n",
       "      <td>47690000.0</td>\n",
       "    </tr>\n",
       "  </tbody>\n",
       "</table>\n",
       "</div>"
      ],
      "text/plain": [
       "          short_name  wage_eur    value_eur   wage_bd    value_bd\n",
       "0           L. Messi  320000.0   78000000.0  121600.0  29640000.0\n",
       "1     R. Lewandowski  270000.0  119500000.0  102600.0  45410000.0\n",
       "2  Cristiano Ronaldo  270000.0   45000000.0  102600.0  17100000.0\n",
       "3          Neymar Jr  270000.0  129000000.0  102600.0  49020000.0\n",
       "4       K. De Bruyne  350000.0  125500000.0  133000.0  47690000.0"
      ]
     },
     "execution_count": 29,
     "metadata": {},
     "output_type": "execute_result"
    }
   ],
   "source": [
    "# Add Bahraini currency to the DataFrame\n",
    "players_investment[\"wage_bd\"] = players_investment[\"wage_eur\"] * 0.38\n",
    "players_investment[\"value_bd\"] = players_investment[\"value_eur\"] * 0.38\n",
    "\n",
    "# View the head of the DataFrame\n",
    "players_investment.head()"
   ]
  },
  {
   "cell_type": "code",
   "execution_count": 30,
   "id": "62c41999",
   "metadata": {},
   "outputs": [
    {
     "data": {
      "text/html": [
       "<div>\n",
       "<style scoped>\n",
       "    .dataframe tbody tr th:only-of-type {\n",
       "        vertical-align: middle;\n",
       "    }\n",
       "\n",
       "    .dataframe tbody tr th {\n",
       "        vertical-align: top;\n",
       "    }\n",
       "\n",
       "    .dataframe thead th {\n",
       "        text-align: right;\n",
       "    }\n",
       "</style>\n",
       "<table border=\"1\" class=\"dataframe\">\n",
       "  <thead>\n",
       "    <tr style=\"text-align: right;\">\n",
       "      <th></th>\n",
       "      <th>short_name</th>\n",
       "      <th>wage_bd</th>\n",
       "      <th>value_bd</th>\n",
       "    </tr>\n",
       "  </thead>\n",
       "  <tbody>\n",
       "    <tr>\n",
       "      <th>0</th>\n",
       "      <td>L. Messi</td>\n",
       "      <td>121600.0</td>\n",
       "      <td>29640000.0</td>\n",
       "    </tr>\n",
       "    <tr>\n",
       "      <th>1</th>\n",
       "      <td>R. Lewandowski</td>\n",
       "      <td>102600.0</td>\n",
       "      <td>45410000.0</td>\n",
       "    </tr>\n",
       "    <tr>\n",
       "      <th>2</th>\n",
       "      <td>Cristiano Ronaldo</td>\n",
       "      <td>102600.0</td>\n",
       "      <td>17100000.0</td>\n",
       "    </tr>\n",
       "    <tr>\n",
       "      <th>3</th>\n",
       "      <td>Neymar Jr</td>\n",
       "      <td>102600.0</td>\n",
       "      <td>49020000.0</td>\n",
       "    </tr>\n",
       "    <tr>\n",
       "      <th>4</th>\n",
       "      <td>K. De Bruyne</td>\n",
       "      <td>133000.0</td>\n",
       "      <td>47690000.0</td>\n",
       "    </tr>\n",
       "  </tbody>\n",
       "</table>\n",
       "</div>"
      ],
      "text/plain": [
       "          short_name   wage_bd    value_bd\n",
       "0           L. Messi  121600.0  29640000.0\n",
       "1     R. Lewandowski  102600.0  45410000.0\n",
       "2  Cristiano Ronaldo  102600.0  17100000.0\n",
       "3          Neymar Jr  102600.0  49020000.0\n",
       "4       K. De Bruyne  133000.0  47690000.0"
      ]
     },
     "execution_count": 30,
     "metadata": {},
     "output_type": "execute_result"
    }
   ],
   "source": [
    "# Let's drop eur currency\n",
    "players_investment = players_investment.drop(\"wage_eur\", axis=1)\n",
    "players_investment = players_investment.drop(\"value_eur\", axis=1)\n",
    "\n",
    "# View the head of the DataFrame\n",
    "players_investment.head()"
   ]
  },
  {
   "cell_type": "code",
   "execution_count": 31,
   "id": "efecbe12",
   "metadata": {
    "scrolled": true
   },
   "outputs": [
    {
     "data": {
      "text/html": [
       "<div>\n",
       "<style scoped>\n",
       "    .dataframe tbody tr th:only-of-type {\n",
       "        vertical-align: middle;\n",
       "    }\n",
       "\n",
       "    .dataframe tbody tr th {\n",
       "        vertical-align: top;\n",
       "    }\n",
       "\n",
       "    .dataframe thead th {\n",
       "        text-align: right;\n",
       "    }\n",
       "</style>\n",
       "<table border=\"1\" class=\"dataframe\">\n",
       "  <thead>\n",
       "    <tr style=\"text-align: right;\">\n",
       "      <th></th>\n",
       "      <th>short_name</th>\n",
       "      <th>wage_bd</th>\n",
       "      <th>value_bd</th>\n",
       "      <th>difference_bd</th>\n",
       "    </tr>\n",
       "  </thead>\n",
       "  <tbody>\n",
       "    <tr>\n",
       "      <th>0</th>\n",
       "      <td>L. Messi</td>\n",
       "      <td>121600.0</td>\n",
       "      <td>29640000.0</td>\n",
       "      <td>29518400.0</td>\n",
       "    </tr>\n",
       "    <tr>\n",
       "      <th>1</th>\n",
       "      <td>R. Lewandowski</td>\n",
       "      <td>102600.0</td>\n",
       "      <td>45410000.0</td>\n",
       "      <td>45307400.0</td>\n",
       "    </tr>\n",
       "    <tr>\n",
       "      <th>2</th>\n",
       "      <td>Cristiano Ronaldo</td>\n",
       "      <td>102600.0</td>\n",
       "      <td>17100000.0</td>\n",
       "      <td>16997400.0</td>\n",
       "    </tr>\n",
       "    <tr>\n",
       "      <th>3</th>\n",
       "      <td>Neymar Jr</td>\n",
       "      <td>102600.0</td>\n",
       "      <td>49020000.0</td>\n",
       "      <td>48917400.0</td>\n",
       "    </tr>\n",
       "    <tr>\n",
       "      <th>4</th>\n",
       "      <td>K. De Bruyne</td>\n",
       "      <td>133000.0</td>\n",
       "      <td>47690000.0</td>\n",
       "      <td>47557000.0</td>\n",
       "    </tr>\n",
       "  </tbody>\n",
       "</table>\n",
       "</div>"
      ],
      "text/plain": [
       "          short_name   wage_bd    value_bd  difference_bd\n",
       "0           L. Messi  121600.0  29640000.0     29518400.0\n",
       "1     R. Lewandowski  102600.0  45410000.0     45307400.0\n",
       "2  Cristiano Ronaldo  102600.0  17100000.0     16997400.0\n",
       "3          Neymar Jr  102600.0  49020000.0     48917400.0\n",
       "4       K. De Bruyne  133000.0  47690000.0     47557000.0"
      ]
     },
     "execution_count": 31,
     "metadata": {},
     "output_type": "execute_result"
    }
   ],
   "source": [
    "# Create the differece column\n",
    "players_investment[\"difference_bd\"] = players_investment[\"value_bd\"] - players_investment[\"wage_bd\"]  \n",
    "\n",
    "# View the head\n",
    "players_investment.head()"
   ]
  },
  {
   "cell_type": "code",
   "execution_count": 32,
   "id": "a836b359",
   "metadata": {},
   "outputs": [
    {
     "data": {
      "text/html": [
       "<div>\n",
       "<style scoped>\n",
       "    .dataframe tbody tr th:only-of-type {\n",
       "        vertical-align: middle;\n",
       "    }\n",
       "\n",
       "    .dataframe tbody tr th {\n",
       "        vertical-align: top;\n",
       "    }\n",
       "\n",
       "    .dataframe thead th {\n",
       "        text-align: right;\n",
       "    }\n",
       "</style>\n",
       "<table border=\"1\" class=\"dataframe\">\n",
       "  <thead>\n",
       "    <tr style=\"text-align: right;\">\n",
       "      <th></th>\n",
       "      <th>short_name</th>\n",
       "      <th>wage_bd</th>\n",
       "      <th>value_bd</th>\n",
       "      <th>difference_bd</th>\n",
       "    </tr>\n",
       "  </thead>\n",
       "  <tbody>\n",
       "    <tr>\n",
       "      <th>6</th>\n",
       "      <td>K. Mbappé</td>\n",
       "      <td>87400.0</td>\n",
       "      <td>73720000.0</td>\n",
       "      <td>73632600.0</td>\n",
       "    </tr>\n",
       "    <tr>\n",
       "      <th>29</th>\n",
       "      <td>E. Haaland</td>\n",
       "      <td>41800.0</td>\n",
       "      <td>52250000.0</td>\n",
       "      <td>52208200.0</td>\n",
       "    </tr>\n",
       "    <tr>\n",
       "      <th>9</th>\n",
       "      <td>H. Kane</td>\n",
       "      <td>91200.0</td>\n",
       "      <td>49210000.0</td>\n",
       "      <td>49118800.0</td>\n",
       "    </tr>\n",
       "    <tr>\n",
       "      <th>3</th>\n",
       "      <td>Neymar Jr</td>\n",
       "      <td>102600.0</td>\n",
       "      <td>49020000.0</td>\n",
       "      <td>48917400.0</td>\n",
       "    </tr>\n",
       "    <tr>\n",
       "      <th>4</th>\n",
       "      <td>K. De Bruyne</td>\n",
       "      <td>133000.0</td>\n",
       "      <td>47690000.0</td>\n",
       "      <td>47557000.0</td>\n",
       "    </tr>\n",
       "  </tbody>\n",
       "</table>\n",
       "</div>"
      ],
      "text/plain": [
       "      short_name   wage_bd    value_bd  difference_bd\n",
       "6      K. Mbappé   87400.0  73720000.0     73632600.0\n",
       "29    E. Haaland   41800.0  52250000.0     52208200.0\n",
       "9        H. Kane   91200.0  49210000.0     49118800.0\n",
       "3      Neymar Jr  102600.0  49020000.0     48917400.0\n",
       "4   K. De Bruyne  133000.0  47690000.0     47557000.0"
      ]
     },
     "execution_count": 32,
     "metadata": {},
     "output_type": "execute_result"
    }
   ],
   "source": [
    "# Sort the DataFrame\n",
    "players_investment = players_investment.sort_values(\"difference_bd\", ascending=False)\n",
    "\n",
    "# View the head\n",
    "players_investment.head()"
   ]
  },
  {
   "cell_type": "code",
   "execution_count": 33,
   "id": "50c6cc0f",
   "metadata": {},
   "outputs": [
    {
     "data": {
      "image/png": "[encoded data removed]",
      "text/plain": [
       "<Figure size 1440x504 with 1 Axes>"
      ]
     },
     "metadata": {
      "needs_background": "light"
     },
     "output_type": "display_data"
    }
   ],
   "source": [
    "# Visulaize the best 10 players to invest in\n",
    "X = players_investment.head(10)[\"short_name\"]\n",
    "Y = players_investment.head(10)[\"difference_bd\"]\n",
    "\n",
    "plt.figure(figsize=(20,7))\n",
    "plt.bar(X, Y)\n",
    "plt.title(\"Best Investment for 2022\")\n",
    "plt.xlabel(\"Player Name\");\n"
   ]
  },
  {
   "attachments": {},
   "cell_type": "markdown",
   "id": "167bf0f2",
   "metadata": {},
   "source": [
    "> **Bonus**: Check whether Harry magiure is a good investment or not\n",
    "\n",
    "<img src=\"https://upload.wikimedia.org/wikipedia/commons/3/39/Harry_Maguire_2021.jpg\" width=200>"
   ]
  },
  {
   "cell_type": "code",
   "execution_count": 34,
   "id": "eb09a58a",
   "metadata": {},
   "outputs": [],
   "source": [
    "# Reset the index\n",
    "players_investment = players_investment.reset_index()"
   ]
  },
  {
   "cell_type": "code",
   "execution_count": 35,
   "id": "d6f85c8b",
   "metadata": {
    "scrolled": true
   },
   "outputs": [
    {
     "data": {
      "text/html": [
       "<div>\n",
       "<style scoped>\n",
       "    .dataframe tbody tr th:only-of-type {\n",
       "        vertical-align: middle;\n",
       "    }\n",
       "\n",
       "    .dataframe tbody tr th {\n",
       "        vertical-align: top;\n",
       "    }\n",
       "\n",
       "    .dataframe thead th {\n",
       "        text-align: right;\n",
       "    }\n",
       "</style>\n",
       "<table border=\"1\" class=\"dataframe\">\n",
       "  <thead>\n",
       "    <tr style=\"text-align: right;\">\n",
       "      <th></th>\n",
       "      <th>index</th>\n",
       "      <th>short_name</th>\n",
       "      <th>wage_bd</th>\n",
       "      <th>value_bd</th>\n",
       "      <th>difference_bd</th>\n",
       "    </tr>\n",
       "  </thead>\n",
       "  <tbody>\n",
       "    <tr>\n",
       "      <th>0</th>\n",
       "      <td>6</td>\n",
       "      <td>K. Mbappé</td>\n",
       "      <td>87400.0</td>\n",
       "      <td>73720000.0</td>\n",
       "      <td>73632600.0</td>\n",
       "    </tr>\n",
       "    <tr>\n",
       "      <th>1</th>\n",
       "      <td>29</td>\n",
       "      <td>E. Haaland</td>\n",
       "      <td>41800.0</td>\n",
       "      <td>52250000.0</td>\n",
       "      <td>52208200.0</td>\n",
       "    </tr>\n",
       "    <tr>\n",
       "      <th>2</th>\n",
       "      <td>9</td>\n",
       "      <td>H. Kane</td>\n",
       "      <td>91200.0</td>\n",
       "      <td>49210000.0</td>\n",
       "      <td>49118800.0</td>\n",
       "    </tr>\n",
       "    <tr>\n",
       "      <th>3</th>\n",
       "      <td>3</td>\n",
       "      <td>Neymar Jr</td>\n",
       "      <td>102600.0</td>\n",
       "      <td>49020000.0</td>\n",
       "      <td>48917400.0</td>\n",
       "    </tr>\n",
       "    <tr>\n",
       "      <th>4</th>\n",
       "      <td>4</td>\n",
       "      <td>K. De Bruyne</td>\n",
       "      <td>133000.0</td>\n",
       "      <td>47690000.0</td>\n",
       "      <td>47557000.0</td>\n",
       "    </tr>\n",
       "  </tbody>\n",
       "</table>\n",
       "</div>"
      ],
      "text/plain": [
       "   index    short_name   wage_bd    value_bd  difference_bd\n",
       "0      6     K. Mbappé   87400.0  73720000.0     73632600.0\n",
       "1     29    E. Haaland   41800.0  52250000.0     52208200.0\n",
       "2      9       H. Kane   91200.0  49210000.0     49118800.0\n",
       "3      3     Neymar Jr  102600.0  49020000.0     48917400.0\n",
       "4      4  K. De Bruyne  133000.0  47690000.0     47557000.0"
      ]
     },
     "execution_count": 35,
     "metadata": {},
     "output_type": "execute_result"
    }
   ],
   "source": [
    "players_investment.head()"
   ]
  },
  {
   "cell_type": "code",
   "execution_count": 36,
   "id": "b473a536",
   "metadata": {},
   "outputs": [],
   "source": [
    "# Delete the index column\n",
    "players_investment = players_investment.drop(\"index\", axis=1)"
   ]
  },
  {
   "cell_type": "code",
   "execution_count": 37,
   "id": "86623916",
   "metadata": {},
   "outputs": [
    {
     "data": {
      "text/html": [
       "<div>\n",
       "<style scoped>\n",
       "    .dataframe tbody tr th:only-of-type {\n",
       "        vertical-align: middle;\n",
       "    }\n",
       "\n",
       "    .dataframe tbody tr th {\n",
       "        vertical-align: top;\n",
       "    }\n",
       "\n",
       "    .dataframe thead th {\n",
       "        text-align: right;\n",
       "    }\n",
       "</style>\n",
       "<table border=\"1\" class=\"dataframe\">\n",
       "  <thead>\n",
       "    <tr style=\"text-align: right;\">\n",
       "      <th></th>\n",
       "      <th>short_name</th>\n",
       "      <th>wage_bd</th>\n",
       "      <th>value_bd</th>\n",
       "      <th>difference_bd</th>\n",
       "    </tr>\n",
       "  </thead>\n",
       "  <tbody>\n",
       "    <tr>\n",
       "      <th>145</th>\n",
       "      <td>H. Maguire</td>\n",
       "      <td>58900.0</td>\n",
       "      <td>16150000.0</td>\n",
       "      <td>16091100.0</td>\n",
       "    </tr>\n",
       "  </tbody>\n",
       "</table>\n",
       "</div>"
      ],
      "text/plain": [
       "     short_name  wage_bd    value_bd  difference_bd\n",
       "145  H. Maguire  58900.0  16150000.0     16091100.0"
      ]
     },
     "execution_count": 37,
     "metadata": {},
     "output_type": "execute_result"
    }
   ],
   "source": [
    "# Check if Harry Maguire is a good deal or not\n",
    "players_investment[players_investment[\"short_name\"] == \"H. Maguire\"]"
   ]
  },
  {
   "cell_type": "markdown",
   "id": "43dedf61",
   "metadata": {},
   "source": [
    "**Harry Maguire ranks 145**"
   ]
  }
 ],
 "metadata": {
  "kernelspec": {
   "display_name": "Python 3 (ipykernel)",
   "language": "python",
   "name": "python3"
  },
  "language_info": {
   "codemirror_mode": {
    "name": "ipython",
    "version": 3
   },
   "file_extension": ".py",
   "mimetype": "text/x-python",
   "name": "python",
   "nbconvert_exporter": "python",
   "pygments_lexer": "ipython3",
   "version": "3.9.7"
  }
 },
 "nbformat": 4,
 "nbformat_minor": 5
}
