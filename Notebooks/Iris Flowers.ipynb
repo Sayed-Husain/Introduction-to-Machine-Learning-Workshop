{
 "cells": [
  {
   "attachments": {},
   "cell_type": "markdown",
   "id": "65113261",
   "metadata": {},
   "source": [
    "# Iris Flowers Exercise Notebook\n",
    "\n",
    "> This notebook contains the the solution for the Iris Flowers Exercise.\n",
    "\n",
    "In this notebook, we are trying to make a model that classifiy between 3 different types of irises’ (Setosa, Versicolour, and Virginica) based on the petal and sepal length. \n",
    "\n",
    "The dataset that we are using in this notebook is the iris flowers dataset taken from scikit-learn datasets <b><a href=\"https://scikit-learn.org/stable/auto_examples/datasets/plot_iris_dataset.html\">found here.</a></b>\n",
    "\n",
    "![image.png](https://miro.medium.com/max/720/1*YYiQed4kj_EZ2qfg_imDWA.png)"
   ]
  },
  {
   "cell_type": "markdown",
   "id": "4bab9b73",
   "metadata": {},
   "source": [
    "## Import the libraries\n",
    "Importing the Data Science and Machine Learning libraries\n",
    "\n",
    "* Pandas as pd\n",
    "* Numpy as np\n",
    "* Matplotlib as plt\n",
    "* Scikit-learn"
   ]
  },
  {
   "cell_type": "code",
   "execution_count": 1,
   "id": "5fd20055",
   "metadata": {},
   "outputs": [],
   "source": [
    "# Import libraries\n",
    "import pandas as pd \n",
    "import numpy as np\n",
    "import matplotlib.pyplot as plt\n",
    "\n",
    "# We will leave the scikit library as we will only import functions of the library when we need to"
   ]
  },
  {
   "cell_type": "markdown",
   "id": "c2bad015",
   "metadata": {},
   "source": [
    "## Importing the data\n",
    "\n",
    "Since the dataset is part of the scikit-learn datasets, we can access it directly from scikit-learn.datasets"
   ]
  },
  {
   "cell_type": "code",
   "execution_count": 2,
   "id": "78a83895",
   "metadata": {},
   "outputs": [],
   "source": [
    "# Import the dataset and assign it to the variable df\n",
    "from sklearn.datasets import load_iris\n",
    "df = load_iris()"
   ]
  },
  {
   "cell_type": "markdown",
   "id": "a9f03316",
   "metadata": {},
   "source": [
    "> **Note:** According to the <a href='https://scikit-learn.org/stable/modules/generated/sklearn.datasets.load_iris.html'>dataset page</a>, the loaded dataset includes of:\n",
    "\n",
    "* feature_names (that contains the names of the dataset columns)\n",
    "* data (which has the petal and sepal length and width data)\n",
    "* targets (which has the target/type of flower assosiated with the data)\n",
    "* target_names (The names of target classes)"
   ]
  },
  {
   "cell_type": "code",
   "execution_count": 4,
   "id": "ab5cf018",
   "metadata": {},
   "outputs": [
    {
     "data": {
      "text/plain": [
       "150"
      ]
     },
     "execution_count": 4,
     "metadata": {},
     "output_type": "execute_result"
    }
   ],
   "source": [
    "# Check for the length of the dataset\n",
    "len(df.target)"
   ]
  },
  {
   "cell_type": "markdown",
   "id": "38287f3c",
   "metadata": {},
   "source": [
    "## Let's have a look at the attributes we have"
   ]
  },
  {
   "cell_type": "code",
   "execution_count": 8,
   "id": "3d17c379",
   "metadata": {},
   "outputs": [
    {
     "data": {
      "text/plain": [
       "['sepal length (cm)',\n",
       " 'sepal width (cm)',\n",
       " 'petal length (cm)',\n",
       " 'petal width (cm)']"
      ]
     },
     "execution_count": 8,
     "metadata": {},
     "output_type": "execute_result"
    }
   ],
   "source": [
    "# Have a look at the feature_names attribute\n",
    "df.feature_names"
   ]
  },
  {
   "cell_type": "code",
   "execution_count": 6,
   "id": "dbbcb064",
   "metadata": {},
   "outputs": [
    {
     "data": {
      "text/plain": [
       "array([[5.1, 3.5, 1.4, 0.2],\n",
       "       [4.9, 3. , 1.4, 0.2],\n",
       "       [4.7, 3.2, 1.3, 0.2],\n",
       "       [4.6, 3.1, 1.5, 0.2],\n",
       "       [5. , 3.6, 1.4, 0.2],\n",
       "       [5.4, 3.9, 1.7, 0.4],\n",
       "       [4.6, 3.4, 1.4, 0.3],\n",
       "       [5. , 3.4, 1.5, 0.2],\n",
       "       [4.4, 2.9, 1.4, 0.2],\n",
       "       [4.9, 3.1, 1.5, 0.1]])"
      ]
     },
     "execution_count": 6,
     "metadata": {},
     "output_type": "execute_result"
    }
   ],
   "source": [
    "# Have a look at the first 10 items of the data attribute\n",
    "df.data[:10]"
   ]
  },
  {
   "cell_type": "code",
   "execution_count": 7,
   "id": "21696440",
   "metadata": {},
   "outputs": [
    {
     "data": {
      "text/plain": [
       "array([0, 0, 0, 0, 0, 0, 0, 0, 0, 0])"
      ]
     },
     "execution_count": 7,
     "metadata": {},
     "output_type": "execute_result"
    }
   ],
   "source": [
    "# Have a look at the first 10 items of the target attribute\n",
    "df.target[:10]"
   ]
  },
  {
   "cell_type": "code",
   "execution_count": 9,
   "id": "ce52fe4b",
   "metadata": {},
   "outputs": [
    {
     "data": {
      "text/plain": [
       "array(['setosa', 'versicolor', 'virginica'], dtype='<U10')"
      ]
     },
     "execution_count": 9,
     "metadata": {},
     "output_type": "execute_result"
    }
   ],
   "source": [
    "# Have a look at the target_names attribute\n",
    "df.target_names"
   ]
  },
  {
   "cell_type": "markdown",
   "id": "bd5a80ee",
   "metadata": {},
   "source": [
    "## Create the X and y variables"
   ]
  },
  {
   "cell_type": "code",
   "execution_count": 10,
   "id": "2a2573c0",
   "metadata": {},
   "outputs": [],
   "source": [
    "# Make the X and y variables\n",
    "X = df.data\n",
    "y = df.target"
   ]
  },
  {
   "cell_type": "markdown",
   "id": "357eac3b",
   "metadata": {},
   "source": [
    "## Create the training and testing datasets"
   ]
  },
  {
   "cell_type": "code",
   "execution_count": 12,
   "id": "37560724",
   "metadata": {},
   "outputs": [],
   "source": [
    "# Import the train_test_split() function from sckit-learn\n",
    "from sklearn.model_selection import train_test_split\n",
    "\n",
    "# Use the train_test_function() function to split the dataset\n",
    "X_train, X_test, y_train, y_test = train_test_split(X, y, test_size=0.2)"
   ]
  },
  {
   "cell_type": "code",
   "execution_count": 17,
   "id": "4e271224",
   "metadata": {},
   "outputs": [
    {
     "name": "stdout",
     "output_type": "stream",
     "text": [
      "The length of the training dataset = 120\n",
      "The length of the test dataset = 30\n"
     ]
    }
   ],
   "source": [
    "# Check the length of the training and testing sets\n",
    "print(f\"The length of the training dataset = {len(X_train)}\")\n",
    "print(f\"The length of the test dataset = {len(X_test)}\")"
   ]
  },
  {
   "cell_type": "markdown",
   "id": "2e974dfe",
   "metadata": {},
   "source": [
    "## Make the model\n",
    "\n",
    "As we have the training and testing datasets ready, it is time to make the model.\n",
    "\n",
    "As this is a classification problem, we will use the `RandomForsetClassifier()` model"
   ]
  },
  {
   "cell_type": "code",
   "execution_count": 18,
   "id": "1a8a7372",
   "metadata": {},
   "outputs": [
    {
     "data": {
      "text/plain": [
       "1.0"
      ]
     },
     "execution_count": 18,
     "metadata": {},
     "output_type": "execute_result"
    }
   ],
   "source": [
    "# Import the model from scikit-learn library \n",
    "from sklearn.ensemble import RandomForestClassifier\n",
    "\n",
    "# Make the model\n",
    "model = RandomForestClassifier()\n",
    "\n",
    "# Train the model\n",
    "model.fit(X_train, y_train)\n",
    "\n",
    "# Evaluate the model\n",
    "model.score(X_test, y_test)"
   ]
  },
  {
   "cell_type": "markdown",
   "id": "d835c6b9",
   "metadata": {},
   "source": [
    "At this stage, we have created a model that can predict target values with unseen data"
   ]
  },
  {
   "cell_type": "markdown",
   "id": "ca4b38d7",
   "metadata": {},
   "source": [
    "## Predict values of unseen data\n",
    "\n",
    "0 = setosa\n",
    "<br>\n",
    "1 = versicolor\n",
    "<br>\n",
    "2 = virginica"
   ]
  },
  {
   "cell_type": "code",
   "execution_count": 19,
   "id": "d4de84e1",
   "metadata": {},
   "outputs": [
    {
     "data": {
      "text/plain": [
       "array([2, 2, 0, 2, 0, 2, 1, 2, 2, 0, 1, 1, 1, 1, 2, 0, 2, 2, 2, 2, 0, 1,\n",
       "       2, 0, 2, 1, 0, 0, 0, 1])"
      ]
     },
     "execution_count": 19,
     "metadata": {},
     "output_type": "execute_result"
    }
   ],
   "source": [
    "model.predict(X_test)"
   ]
  },
  {
   "cell_type": "code",
   "execution_count": 20,
   "id": "a43f9aa1",
   "metadata": {},
   "outputs": [
    {
     "data": {
      "text/plain": [
       "array(['setosa', 'versicolor', 'virginica'], dtype='<U10')"
      ]
     },
     "execution_count": 20,
     "metadata": {},
     "output_type": "execute_result"
    }
   ],
   "source": [
    "df.target_names"
   ]
  },
  {
   "cell_type": "code",
   "execution_count": null,
   "id": "93ed112c",
   "metadata": {},
   "outputs": [],
   "source": []
  }
 ],
 "metadata": {
  "kernelspec": {
   "display_name": "Python 3 (ipykernel)",
   "language": "python",
   "name": "python3"
  },
  "language_info": {
   "codemirror_mode": {
    "name": "ipython",
    "version": 3
   },
   "file_extension": ".py",
   "mimetype": "text/x-python",
   "name": "python",
   "nbconvert_exporter": "python",
   "pygments_lexer": "ipython3",
   "version": "3.9.7"
  }
 },
 "nbformat": 4,
 "nbformat_minor": 5
}
