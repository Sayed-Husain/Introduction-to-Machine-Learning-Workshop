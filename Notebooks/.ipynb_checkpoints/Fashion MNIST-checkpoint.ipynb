{
 "cells": [
  {
   "cell_type": "markdown",
   "id": "d38a21cd",
   "metadata": {},
   "source": [
    "# Fashion MNIST Exercise Notebook\n",
    "\n",
    "> This notebook contains the Exercise version of the Fashion MNIST problem\n",
    "\n",
    "In this notebook, we are trying to make an image classification model to classify images of fashion products from 10 categories. \n",
    "\n",
    "This dataset is one of the most famous datasets out there, and it has it's own <a href=\"https://en.wikipedia.org/wiki/MNIST_database\">wikipedia page</a>. \n",
    "\n",
    "This dataset is contains 70,000 images of fashion products.\n",
    "\n",
    "**Your goal is to get 80% accuracy or higher**\n",
    "\n",
    "![image.png](https://ruslanmv.com/assets/images/posts/2020-11-15-DCGAN-Fashion/DCGAN_Learner_Notebook_5_0.png)"
   ]
  },
  {
   "cell_type": "markdown",
   "id": "e8f76fcd",
   "metadata": {},
   "source": [
    "**Note:** The below cell is the setup cell for this exercise, it is going to download the data, extract them, and assign them to a variable.\n",
    "\n",
    "Therefore, the cell might take while to load"
   ]
  },
  {
   "cell_type": "code",
   "execution_count": null,
   "id": "9e7c32dc",
   "metadata": {},
   "outputs": [],
   "source": [
    "# Import libraries\n",
    "import pandas as pd \n",
    "import numpy as np\n",
    "import matplotlib.pyplot as plt\n",
    "\n",
    "# Downlaod the data\n",
    "import urllib.request\n",
    "url = 'https://github.com/Sayed-Husain/Introduction-to-Machine-Learning-Workshop/raw/main/Data/fashion.zip'\n",
    "filename = 'fashion.zip'\n",
    "urllib.request.urlretrieve(url, filename)\n",
    "\n",
    "# Unzip the downloaded file\n",
    "import zipfile\n",
    "zip_ref = zipfile.ZipFile(\"fashion.zip\", \"r\")\n",
    "zip_ref.extractall()\n",
    "zip_ref.close()"
   ]
  },
  {
   "cell_type": "code",
   "execution_count": null,
   "id": "94669a20",
   "metadata": {},
   "outputs": [],
   "source": [
    "# Read the train dataset\n",
    "train_dataset = pd.read_csv(\"fashion-mnist_train.csv\")\n",
    "\n",
    "# Read the test dataset\n",
    "test_dataset = pd.read_csv(\"fashion-mnist_test.csv\")\n",
    "\n",
    "# To confirm that the dataset is what we are expecting, let's check the length of the datasets\n",
    "len(train_dataset), len(test_dataset)"
   ]
  },
  {
   "cell_type": "markdown",
   "id": "10415541",
   "metadata": {},
   "source": [
    "## Understand the dataset\n",
    "\n",
    "In order to be able to pass the datasets to the model, we first need to understand the data that we have."
   ]
  },
  {
   "cell_type": "code",
   "execution_count": null,
   "id": "765107d8",
   "metadata": {},
   "outputs": [],
   "source": [
    "# View the head of the DataFrame\n",
    "train_dataset.head()"
   ]
  },
  {
   "cell_type": "markdown",
   "id": "c57d1b77",
   "metadata": {},
   "source": [
    "Each row in the training dataset has 785 columns, if we assumed that the `label` column is the target, then the other 784 columns refer to the pixel values"
   ]
  },
  {
   "cell_type": "code",
   "execution_count": null,
   "id": "2a5e0923",
   "metadata": {},
   "outputs": [],
   "source": [
    "28*28"
   ]
  },
  {
   "cell_type": "markdown",
   "id": "1555699c",
   "metadata": {},
   "source": [
    "As our image size is (28,28), the dataset we have have represented the image's pixels with the values of 784 columns.\n",
    "\n",
    "To confirm, let's try and view the first image of the dataset."
   ]
  },
  {
   "cell_type": "markdown",
   "id": "df5733a4",
   "metadata": {},
   "source": [
    "## View the first image"
   ]
  },
  {
   "cell_type": "code",
   "execution_count": null,
   "id": "4b68eb33",
   "metadata": {},
   "outputs": [],
   "source": [
    "# Create the X and y variables \n",
    "X_train = ??\n",
    "y_train = ??\n",
    "\n",
    "# Do the same thing for the test dataset\n",
    "X_test = ??\n",
    "y_test = ??"
   ]
  },
  {
   "cell_type": "markdown",
   "id": "aad1b44a",
   "metadata": {},
   "source": [
    "Great, as we have the X_train (the images) and y_train (what class do they represent) data, let's try and view the first image"
   ]
  },
  {
   "cell_type": "code",
   "execution_count": null,
   "id": "b8a9fef2",
   "metadata": {},
   "outputs": [],
   "source": [
    "# Make the `first_image` variable and pass it the image pixel values\n",
    "first_image = X_train.values[0]\n",
    "\n",
    "# Return it to it's original shape\n",
    "first_image = first_image.reshape(28,28)\n",
    "\n",
    "# From the matplotlib library, let's use the imshow function (stands for image show) to view the first image\n",
    "plt.imshow(first_image, cmap=\"gray\");"
   ]
  },
  {
   "cell_type": "markdown",
   "id": "8a5c96cc",
   "metadata": {},
   "source": [
    "## Make the model\n",
    "As this is a classification problem, we are going to use the `??` model from sklearn"
   ]
  },
  {
   "cell_type": "code",
   "execution_count": null,
   "id": "6e355ad8",
   "metadata": {},
   "outputs": [],
   "source": [
    "# Import RandomForestClassifier model from sklearn library\n",
    "from sklearn.ensemble import RandomForestClassifier\n",
    "\n",
    "# Make the model\n",
    "model = ??\n",
    "\n",
    "# Train the model\n",
    "model.fit(X_train, y_train)\n",
    "\n",
    "# Check the accuracy of the model\n",
    "model.score(X_test, y_test)"
   ]
  },
  {
   "cell_type": "code",
   "execution_count": null,
   "id": "2f8a0d0f",
   "metadata": {},
   "outputs": [],
   "source": []
  }
 ],
 "metadata": {
  "kernelspec": {
   "display_name": "Python 3 (ipykernel)",
   "language": "python",
   "name": "python3"
  },
  "language_info": {
   "codemirror_mode": {
    "name": "ipython",
    "version": 3
   },
   "file_extension": ".py",
   "mimetype": "text/x-python",
   "name": "python",
   "nbconvert_exporter": "python",
   "pygments_lexer": "ipython3",
   "version": "3.9.7"
  }
 },
 "nbformat": 4,
 "nbformat_minor": 5
}
