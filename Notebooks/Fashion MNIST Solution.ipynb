{
 "cells": [
  {
   "cell_type": "markdown",
   "id": "b57ec335",
   "metadata": {},
   "source": [
    "# Fashion MNIST Exercise Notebook\n",
    "\n",
    "> This notebook contains the Solution version of the Fashion MNIST problem\n",
    "\n",
    "In this notebook, we are trying to make an image classification model to classify images of fashion products from 10 categories. \n",
    "\n",
    "This dataset is one of the most famous datasets out there, and it has it's own <a href=\"https://en.wikipedia.org/wiki/MNIST_database\">wikipedia page</a>. \n",
    "\n",
    "This dataset is contains 70,000 images of fashion products.\n",
    "\n",
    "**Your goal is to get 80% accuracy or higher**\n",
    "\n",
    "![image.png](https://ruslanmv.com/assets/images/posts/2020-11-15-DCGAN-Fashion/DCGAN_Learner_Notebook_5_0.png)"
   ]
  },
  {
   "cell_type": "markdown",
   "id": "4910ef60",
   "metadata": {},
   "source": [
    "**Note:** The below cell is the setup cell for this exercise, it is going to download the data, extract them, and assign them to a variable.\n",
    "\n",
    "Therefore, the cell might take while to load"
   ]
  },
  {
   "cell_type": "code",
   "execution_count": 1,
   "id": "93be754a",
   "metadata": {},
   "outputs": [],
   "source": [
    "# Import libraries\n",
    "import pandas as pd \n",
    "import numpy as np\n",
    "import matplotlib.pyplot as plt\n",
    "\n",
    "# Downlaod the data\n",
    "import urllib.request\n",
    "url = 'https://github.com/Sayed-Husain/Introduction-to-Machine-Learning-Workshop/raw/main/Data/fashion.zip'\n",
    "filename = 'fashion.zip'\n",
    "urllib.request.urlretrieve(url, filename)\n",
    "\n",
    "# Unzip the downloaded file\n",
    "import zipfile\n",
    "zip_ref = zipfile.ZipFile(\"fashion.zip\", \"r\")\n",
    "zip_ref.extractall()\n",
    "zip_ref.close()"
   ]
  },
  {
   "cell_type": "code",
   "execution_count": 2,
   "id": "e85cbf69",
   "metadata": {},
   "outputs": [
    {
     "name": "stdout",
     "output_type": "stream",
     "text": [
      "The length of the train dataset = 60000\n",
      "The length of the test dataset = 10000\n"
     ]
    }
   ],
   "source": [
    "# Read the train dataset\n",
    "train_dataset = pd.read_csv(\"fashion-mnist_train.csv\")\n",
    "\n",
    "# Read the test dataset\n",
    "test_dataset = pd.read_csv(\"fashion-mnist_test.csv\")\n",
    "\n",
    "# To confirm that the dataset is what we are expecting, let's check the length of the datasets\n",
    "len(train_dataset), len(test_dataset)"
   ]
  },
  {
   "cell_type": "markdown",
   "id": "d18c8f70",
   "metadata": {},
   "source": [
    "## Understand the dataset\n",
    "\n",
    "In order to be able to pass the datasets to the model, we first need to understand the data that we have."
   ]
  },
  {
   "cell_type": "code",
   "execution_count": 3,
   "id": "da360576",
   "metadata": {},
   "outputs": [
    {
     "data": {
      "text/html": [
       "<div>\n",
       "<style scoped>\n",
       "    .dataframe tbody tr th:only-of-type {\n",
       "        vertical-align: middle;\n",
       "    }\n",
       "\n",
       "    .dataframe tbody tr th {\n",
       "        vertical-align: top;\n",
       "    }\n",
       "\n",
       "    .dataframe thead th {\n",
       "        text-align: right;\n",
       "    }\n",
       "</style>\n",
       "<table border=\"1\" class=\"dataframe\">\n",
       "  <thead>\n",
       "    <tr style=\"text-align: right;\">\n",
       "      <th></th>\n",
       "      <th>label</th>\n",
       "      <th>pixel1</th>\n",
       "      <th>pixel2</th>\n",
       "      <th>pixel3</th>\n",
       "      <th>pixel4</th>\n",
       "      <th>pixel5</th>\n",
       "      <th>pixel6</th>\n",
       "      <th>pixel7</th>\n",
       "      <th>pixel8</th>\n",
       "      <th>pixel9</th>\n",
       "      <th>...</th>\n",
       "      <th>pixel775</th>\n",
       "      <th>pixel776</th>\n",
       "      <th>pixel777</th>\n",
       "      <th>pixel778</th>\n",
       "      <th>pixel779</th>\n",
       "      <th>pixel780</th>\n",
       "      <th>pixel781</th>\n",
       "      <th>pixel782</th>\n",
       "      <th>pixel783</th>\n",
       "      <th>pixel784</th>\n",
       "    </tr>\n",
       "  </thead>\n",
       "  <tbody>\n",
       "    <tr>\n",
       "      <th>0</th>\n",
       "      <td>2</td>\n",
       "      <td>0</td>\n",
       "      <td>0</td>\n",
       "      <td>0</td>\n",
       "      <td>0</td>\n",
       "      <td>0</td>\n",
       "      <td>0</td>\n",
       "      <td>0</td>\n",
       "      <td>0</td>\n",
       "      <td>0</td>\n",
       "      <td>...</td>\n",
       "      <td>0</td>\n",
       "      <td>0</td>\n",
       "      <td>0</td>\n",
       "      <td>0</td>\n",
       "      <td>0</td>\n",
       "      <td>0</td>\n",
       "      <td>0</td>\n",
       "      <td>0</td>\n",
       "      <td>0</td>\n",
       "      <td>0</td>\n",
       "    </tr>\n",
       "    <tr>\n",
       "      <th>1</th>\n",
       "      <td>9</td>\n",
       "      <td>0</td>\n",
       "      <td>0</td>\n",
       "      <td>0</td>\n",
       "      <td>0</td>\n",
       "      <td>0</td>\n",
       "      <td>0</td>\n",
       "      <td>0</td>\n",
       "      <td>0</td>\n",
       "      <td>0</td>\n",
       "      <td>...</td>\n",
       "      <td>0</td>\n",
       "      <td>0</td>\n",
       "      <td>0</td>\n",
       "      <td>0</td>\n",
       "      <td>0</td>\n",
       "      <td>0</td>\n",
       "      <td>0</td>\n",
       "      <td>0</td>\n",
       "      <td>0</td>\n",
       "      <td>0</td>\n",
       "    </tr>\n",
       "    <tr>\n",
       "      <th>2</th>\n",
       "      <td>6</td>\n",
       "      <td>0</td>\n",
       "      <td>0</td>\n",
       "      <td>0</td>\n",
       "      <td>0</td>\n",
       "      <td>0</td>\n",
       "      <td>0</td>\n",
       "      <td>0</td>\n",
       "      <td>5</td>\n",
       "      <td>0</td>\n",
       "      <td>...</td>\n",
       "      <td>0</td>\n",
       "      <td>0</td>\n",
       "      <td>0</td>\n",
       "      <td>30</td>\n",
       "      <td>43</td>\n",
       "      <td>0</td>\n",
       "      <td>0</td>\n",
       "      <td>0</td>\n",
       "      <td>0</td>\n",
       "      <td>0</td>\n",
       "    </tr>\n",
       "    <tr>\n",
       "      <th>3</th>\n",
       "      <td>0</td>\n",
       "      <td>0</td>\n",
       "      <td>0</td>\n",
       "      <td>0</td>\n",
       "      <td>1</td>\n",
       "      <td>2</td>\n",
       "      <td>0</td>\n",
       "      <td>0</td>\n",
       "      <td>0</td>\n",
       "      <td>0</td>\n",
       "      <td>...</td>\n",
       "      <td>3</td>\n",
       "      <td>0</td>\n",
       "      <td>0</td>\n",
       "      <td>0</td>\n",
       "      <td>0</td>\n",
       "      <td>1</td>\n",
       "      <td>0</td>\n",
       "      <td>0</td>\n",
       "      <td>0</td>\n",
       "      <td>0</td>\n",
       "    </tr>\n",
       "    <tr>\n",
       "      <th>4</th>\n",
       "      <td>3</td>\n",
       "      <td>0</td>\n",
       "      <td>0</td>\n",
       "      <td>0</td>\n",
       "      <td>0</td>\n",
       "      <td>0</td>\n",
       "      <td>0</td>\n",
       "      <td>0</td>\n",
       "      <td>0</td>\n",
       "      <td>0</td>\n",
       "      <td>...</td>\n",
       "      <td>0</td>\n",
       "      <td>0</td>\n",
       "      <td>0</td>\n",
       "      <td>0</td>\n",
       "      <td>0</td>\n",
       "      <td>0</td>\n",
       "      <td>0</td>\n",
       "      <td>0</td>\n",
       "      <td>0</td>\n",
       "      <td>0</td>\n",
       "    </tr>\n",
       "  </tbody>\n",
       "</table>\n",
       "<p>5 rows × 785 columns</p>\n",
       "</div>"
      ],
      "text/plain": [
       "   label  pixel1  pixel2  pixel3  pixel4  pixel5  pixel6  pixel7  pixel8  \\\n",
       "0      2       0       0       0       0       0       0       0       0   \n",
       "1      9       0       0       0       0       0       0       0       0   \n",
       "2      6       0       0       0       0       0       0       0       5   \n",
       "3      0       0       0       0       1       2       0       0       0   \n",
       "4      3       0       0       0       0       0       0       0       0   \n",
       "\n",
       "   pixel9  ...  pixel775  pixel776  pixel777  pixel778  pixel779  pixel780  \\\n",
       "0       0  ...         0         0         0         0         0         0   \n",
       "1       0  ...         0         0         0         0         0         0   \n",
       "2       0  ...         0         0         0        30        43         0   \n",
       "3       0  ...         3         0         0         0         0         1   \n",
       "4       0  ...         0         0         0         0         0         0   \n",
       "\n",
       "   pixel781  pixel782  pixel783  pixel784  \n",
       "0         0         0         0         0  \n",
       "1         0         0         0         0  \n",
       "2         0         0         0         0  \n",
       "3         0         0         0         0  \n",
       "4         0         0         0         0  \n",
       "\n",
       "[5 rows x 785 columns]"
      ]
     },
     "execution_count": 3,
     "metadata": {},
     "output_type": "execute_result"
    }
   ],
   "source": [
    "# View the head of the DataFrame\n",
    "train_dataset.head()"
   ]
  },
  {
   "cell_type": "markdown",
   "id": "4f01dfcc",
   "metadata": {},
   "source": [
    "Each row in the training dataset has 785 columns, if we assumed that the `label` column is the target, then the other 784 columns refer to the pixel values"
   ]
  },
  {
   "cell_type": "code",
   "execution_count": 4,
   "id": "bb1e9ef5",
   "metadata": {},
   "outputs": [
    {
     "data": {
      "text/plain": [
       "784"
      ]
     },
     "execution_count": 4,
     "metadata": {},
     "output_type": "execute_result"
    }
   ],
   "source": [
    "28*28"
   ]
  },
  {
   "cell_type": "markdown",
   "id": "7fb094af",
   "metadata": {},
   "source": [
    "As our image size is (28,28), the dataset we have have represented the image's pixels with the values of 784 columns.\n",
    "\n",
    "To confirm, let's try and view the first image of the dataset."
   ]
  },
  {
   "cell_type": "markdown",
   "id": "bcbfa3ae",
   "metadata": {},
   "source": [
    "## View the first image"
   ]
  },
  {
   "cell_type": "code",
   "execution_count": 5,
   "id": "790ef43b",
   "metadata": {},
   "outputs": [],
   "source": [
    "# Create the X and y variables \n",
    "X_train = train_dataset.drop(\"label\", axis=1)\n",
    "y_train = train_dataset[\"label\"]\n",
    "\n",
    "# Do the same thing for the test dataset\n",
    "X_test = test_dataset.drop(\"label\", axis=1)\n",
    "y_test = test_dataset[\"label\"]"
   ]
  },
  {
   "cell_type": "markdown",
   "id": "c0faa68f",
   "metadata": {},
   "source": [
    "Great, as we have the X_train (the images) and y_train (what class do they represent) data, let's try and view the first image"
   ]
  },
  {
   "cell_type": "code",
   "execution_count": 6,
   "id": "0d6343d3",
   "metadata": {},
   "outputs": [
    {
     "data": {
      "image/png": "[encoded data removed]",
      "text/plain": [
       "<Figure size 432x288 with 1 Axes>"
      ]
     },
     "metadata": {
      "needs_background": "light"
     },
     "output_type": "display_data"
    }
   ],
   "source": [
    "# Make the `first_image` variable and pass it the image pixel values\n",
    "first_image = X_train.values[0]\n",
    "\n",
    "# Return it to it's original shape\n",
    "first_image = first_image.reshape(28,28)\n",
    "\n",
    "# From the matplotlib library, let's use the imshow function (stands for image show) to view the first image\n",
    "plt.imshow(first_image, cmap=\"gray\");"
   ]
  },
  {
   "cell_type": "markdown",
   "id": "e19e3f6c",
   "metadata": {},
   "source": [
    "## Make the model\n",
    "As this is a classification problem, we are going to use the `RandomForestClassifier()` model from sklearn"
   ]
  },
  {
   "cell_type": "code",
   "execution_count": 7,
   "id": "6f1dc354",
   "metadata": {},
   "outputs": [
    {
     "data": {
      "text/plain": [
       "0.8845"
      ]
     },
     "execution_count": 7,
     "metadata": {},
     "output_type": "execute_result"
    }
   ],
   "source": [
    "# Import RandomForestClassifier model from sklearn library\n",
    "from sklearn.ensemble import RandomForestClassifier\n",
    "\n",
    "# Make the model\n",
    "model = RandomForestClassifier()\n",
    "\n",
    "# Train the model\n",
    "model.fit(X_train, y_train)\n",
    "\n",
    "# Check the accuracy of the model\n",
    "model.score(X_test, y_test)"
   ]
  },
  {
   "cell_type": "code",
   "execution_count": null,
   "id": "9ba2c432",
   "metadata": {},
   "outputs": [],
   "source": []
  }
 ],
 "metadata": {
  "kernelspec": {
   "display_name": "Python 3 (ipykernel)",
   "language": "python",
   "name": "python3"
  },
  "language_info": {
   "codemirror_mode": {
    "name": "ipython",
    "version": 3
   },
   "file_extension": ".py",
   "mimetype": "text/x-python",
   "name": "python",
   "nbconvert_exporter": "python",
   "pygments_lexer": "ipython3",
   "version": "3.9.7"
  }
 },
 "nbformat": 4,
 "nbformat_minor": 5
}
