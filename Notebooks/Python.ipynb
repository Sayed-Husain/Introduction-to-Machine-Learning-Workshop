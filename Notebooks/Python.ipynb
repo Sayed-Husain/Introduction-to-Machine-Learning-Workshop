{
 "cells": [
  {
   "cell_type": "markdown",
   "id": "889b3401",
   "metadata": {},
   "source": [
    "# Pythons basics\n",
    "\n",
    "> In this notebook, we are going to cover the python skills we need to develop Machine Learning model\n",
    "\n",
    "**Note:** This notebook will only covers the amount of python needed for this workshop"
   ]
  },
  {
   "cell_type": "markdown",
   "id": "903afec9",
   "metadata": {},
   "source": [
    "## Why python\n",
    "1. Python has a simple syntax similar to the English language.\n",
    "2. Python has a lot of libraries (pre-written codes) that are going to help us develop Machine Learning models"
   ]
  },
  {
   "cell_type": "markdown",
   "id": "bca0456f",
   "metadata": {},
   "source": [
    "## Codes\n",
    "We can run the python code as soon as it is written, and the program runs from top to bottom."
   ]
  },
  {
   "cell_type": "markdown",
   "id": "d2a44929",
   "metadata": {},
   "source": [
    "## Variables\n",
    "\n",
    "We can save different values and access them later using pythons `varibles`.\n",
    "\n",
    "we can simply create a varible by typing the name of the variable and assign a value to it."
   ]
  },
  {
   "cell_type": "code",
   "execution_count": 1,
   "id": "1c08419a",
   "metadata": {},
   "outputs": [],
   "source": [
    "x = 10"
   ]
  },
  {
   "cell_type": "code",
   "execution_count": 2,
   "id": "df41e69a",
   "metadata": {},
   "outputs": [
    {
     "data": {
      "text/plain": [
       "10"
      ]
     },
     "execution_count": 2,
     "metadata": {},
     "output_type": "execute_result"
    }
   ],
   "source": [
    "x"
   ]
  },
  {
   "cell_type": "markdown",
   "id": "cbe0fff6",
   "metadata": {},
   "source": [
    "## Comment\n",
    "We can use comments, which are text inside our code that the is not considered code.\n",
    "We can use comments to make our code more readable.\n",
    "\n",
    "We can create a comment by putting `#` in the beginning of the line."
   ]
  },
  {
   "cell_type": "code",
   "execution_count": 3,
   "id": "e5cd2556",
   "metadata": {},
   "outputs": [],
   "source": [
    "# This is a comment"
   ]
  },
  {
   "cell_type": "markdown",
   "id": "fd65c847",
   "metadata": {},
   "source": [
    "## Types of Data\n",
    "Python has some data types that we will commonly use\n",
    "\n",
    "For examples:\n",
    "1. `str` - short for string, which simply means text\n",
    "2. `int` - short for integer, which means non-decimal numbers\n",
    "3. `float` - decimal numbers\n",
    "4. `dictionary` - a dictionary is a key, value pair, with the key being a string\n",
    "5. `list` - a list is a simply a list of values, and the values can be any type of data"
   ]
  },
  {
   "cell_type": "markdown",
   "id": "93bc27fb",
   "metadata": {},
   "source": [
    "### String\n",
    "Any text should be surrounded by quotation marks `\"\"` or `''`."
   ]
  },
  {
   "cell_type": "code",
   "execution_count": 4,
   "id": "cea1e9aa",
   "metadata": {},
   "outputs": [
    {
     "data": {
      "text/plain": [
       "'This is a string'"
      ]
     },
     "execution_count": 4,
     "metadata": {},
     "output_type": "execute_result"
    }
   ],
   "source": [
    "# Create a string named string1\n",
    "string1 = \"This is a string\"\n",
    "string1"
   ]
  },
  {
   "cell_type": "code",
   "execution_count": 5,
   "id": "a4c133a8",
   "metadata": {},
   "outputs": [
    {
     "data": {
      "text/plain": [
       "'This is a string'"
      ]
     },
     "execution_count": 5,
     "metadata": {},
     "output_type": "execute_result"
    }
   ],
   "source": [
    "# Create a string named string2\n",
    "string2 = 'This is a string'\n",
    "string2"
   ]
  },
  {
   "cell_type": "markdown",
   "id": "dfb5759d",
   "metadata": {},
   "source": [
    "### Integer\n",
    "Any number that is not decimal"
   ]
  },
  {
   "cell_type": "code",
   "execution_count": 6,
   "id": "4fec2419",
   "metadata": {},
   "outputs": [
    {
     "data": {
      "text/plain": [
       "5"
      ]
     },
     "execution_count": 6,
     "metadata": {},
     "output_type": "execute_result"
    }
   ],
   "source": [
    "# Create a integer named integer1\n",
    "integer1 = 5\n",
    "integer1"
   ]
  },
  {
   "cell_type": "markdown",
   "id": "092d5c02",
   "metadata": {},
   "source": [
    "### Float \n",
    "Any number that is decimal"
   ]
  },
  {
   "cell_type": "code",
   "execution_count": 7,
   "id": "31a66e29",
   "metadata": {},
   "outputs": [
    {
     "data": {
      "text/plain": [
       "5.0"
      ]
     },
     "execution_count": 7,
     "metadata": {},
     "output_type": "execute_result"
    }
   ],
   "source": [
    "# Create a flaot named flaot1\n",
    "float1 = 5.0\n",
    "float1"
   ]
  },
  {
   "cell_type": "code",
   "execution_count": 8,
   "id": "ca87628c",
   "metadata": {},
   "outputs": [
    {
     "data": {
      "text/plain": [
       "2.3"
      ]
     },
     "execution_count": 8,
     "metadata": {},
     "output_type": "execute_result"
    }
   ],
   "source": [
    "# Create a flaot named flaot1\n",
    "float2 = 2.3\n",
    "float2"
   ]
  },
  {
   "cell_type": "markdown",
   "id": "9fc52e89",
   "metadata": {},
   "source": [
    "### Dictionary \n",
    "A dictionary is a key value pair, declared by curly brackets `{key:value}`, there can be many key, values pair as wanted."
   ]
  },
  {
   "cell_type": "code",
   "execution_count": 9,
   "id": "9e5c0abf",
   "metadata": {},
   "outputs": [
    {
     "data": {
      "text/plain": [
       "{'first key': 5}"
      ]
     },
     "execution_count": 9,
     "metadata": {},
     "output_type": "execute_result"
    }
   ],
   "source": [
    "# Create a dictionary named dictionary1\n",
    "dictionary1 = {\"first key\": 5}\n",
    "dictionary1"
   ]
  },
  {
   "cell_type": "code",
   "execution_count": 10,
   "id": "f67074ae",
   "metadata": {},
   "outputs": [
    {
     "data": {
      "text/plain": [
       "{'first key': 'first value', 'second key': 'second value'}"
      ]
     },
     "execution_count": 10,
     "metadata": {},
     "output_type": "execute_result"
    }
   ],
   "source": [
    "# Create a dictionary named dictionary2\n",
    "dictionary2 = {\"first key\": \"first value\",\n",
    "              \"second key\": \"second value\"}\n",
    "dictionary2"
   ]
  },
  {
   "cell_type": "markdown",
   "id": "a268a1b8",
   "metadata": {},
   "source": [
    "### List\n",
    "A list is a values of data surrounded by square brackets `[]`, and every value is seperated by comma `,`."
   ]
  },
  {
   "cell_type": "code",
   "execution_count": 11,
   "id": "85894fb2",
   "metadata": {},
   "outputs": [
    {
     "data": {
      "text/plain": [
       "[1, 2, 3, 4, 5, 6]"
      ]
     },
     "execution_count": 11,
     "metadata": {},
     "output_type": "execute_result"
    }
   ],
   "source": [
    "# Create a list named list1\n",
    "list1 = [1,2,3,4,5,6]\n",
    "list1"
   ]
  },
  {
   "cell_type": "code",
   "execution_count": 12,
   "id": "f5490041",
   "metadata": {},
   "outputs": [
    {
     "data": {
      "text/plain": [
       "['first value', 'second value', 'third value']"
      ]
     },
     "execution_count": 12,
     "metadata": {},
     "output_type": "execute_result"
    }
   ],
   "source": [
    "# Create a list named list2\n",
    "list2 = [\"first value\", \"second value\", \"third value\"]\n",
    "list2"
   ]
  },
  {
   "cell_type": "markdown",
   "id": "5177f9a6",
   "metadata": {},
   "source": [
    "#### List Slicing \n",
    "We can get any value from the list using List Slicing by specifying the order of the value we want.\n",
    "\n",
    "**Note:** Start counting from 0"
   ]
  },
  {
   "cell_type": "code",
   "execution_count": 13,
   "id": "13e5c66d",
   "metadata": {},
   "outputs": [
    {
     "data": {
      "text/plain": [
       "2"
      ]
     },
     "execution_count": 13,
     "metadata": {},
     "output_type": "execute_result"
    }
   ],
   "source": [
    "# Use List slicing to get the second value from list1\n",
    "list1[1]"
   ]
  },
  {
   "cell_type": "code",
   "execution_count": 14,
   "id": "2f4ed934",
   "metadata": {},
   "outputs": [
    {
     "data": {
      "text/plain": [
       "'first value'"
      ]
     },
     "execution_count": 14,
     "metadata": {},
     "output_type": "execute_result"
    }
   ],
   "source": [
    "# Use List slicing to get the first value from list2\n",
    "list2[0]"
   ]
  },
  {
   "cell_type": "markdown",
   "id": "96682607",
   "metadata": {},
   "source": [
    "## Main functions\n",
    "\n",
    "Here are the main funtions that we are going to use\n",
    "1. `len()` - this function allows us to know the number of values inside a the data\n",
    "2. `import` - this function allows us to import pre-written codes to help us develop in python"
   ]
  },
  {
   "cell_type": "code",
   "execution_count": 15,
   "id": "cf3db807",
   "metadata": {},
   "outputs": [
    {
     "data": {
      "text/plain": [
       "6"
      ]
     },
     "execution_count": 15,
     "metadata": {},
     "output_type": "execute_result"
    }
   ],
   "source": [
    "# Use the len() function to know the number of values inside list1\n",
    "len(list1)"
   ]
  },
  {
   "cell_type": "code",
   "execution_count": 16,
   "id": "b473238c",
   "metadata": {},
   "outputs": [],
   "source": [
    "# Use the import function to import a library\n",
    "import random"
   ]
  },
  {
   "cell_type": "markdown",
   "id": "5f90b0e6",
   "metadata": {},
   "source": [
    "## Methods \n",
    "Access functions and attrbuites from the variables by adding `.` at the end of the variable."
   ]
  },
  {
   "cell_type": "code",
   "execution_count": 17,
   "id": "078419a5",
   "metadata": {},
   "outputs": [
    {
     "data": {
      "text/plain": [
       "0.9711972638929187"
      ]
     },
     "execution_count": 17,
     "metadata": {},
     "output_type": "execute_result"
    }
   ],
   "source": [
    "# Create a random float\n",
    "random.random()"
   ]
  },
  {
   "cell_type": "markdown",
   "id": "98fca17e",
   "metadata": {},
   "source": [
    "## Arguments\n",
    "In some functions, we can add argument inside the parentheses `()`, to achieve results."
   ]
  },
  {
   "cell_type": "code",
   "execution_count": 18,
   "id": "b071f04f",
   "metadata": {},
   "outputs": [
    {
     "data": {
      "text/plain": [
       "2"
      ]
     },
     "execution_count": 18,
     "metadata": {},
     "output_type": "execute_result"
    }
   ],
   "source": [
    "# Return a number between 1 and 10\n",
    "random.randint(1,10)"
   ]
  }
 ],
 "metadata": {
  "kernelspec": {
   "display_name": "Python 3 (ipykernel)",
   "language": "python",
   "name": "python3"
  },
  "language_info": {
   "codemirror_mode": {
    "name": "ipython",
    "version": 3
   },
   "file_extension": ".py",
   "mimetype": "text/x-python",
   "name": "python",
   "nbconvert_exporter": "python",
   "pygments_lexer": "ipython3",
   "version": "3.9.7"
  }
 },
 "nbformat": 4,
 "nbformat_minor": 5
}
