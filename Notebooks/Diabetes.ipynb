{
 "cells": [
  {
   "cell_type": "markdown",
   "id": "7249d2a9",
   "metadata": {},
   "source": [
    "# Diabetes Exercise Notebook\n",
    "\n",
    "> This notebook contains the Exercise version of the Diabestes problem\n",
    "\n",
    " This dataset contains data from diabetic patients and contains certain features such as their bmi, age , blood pressure and glucose levels which are useful in predicting the diabetes disease progression in patients.\n",
    "\n",
    "The dataset that we are using in this notebook is the diabetes dataset taken from scikit-learn datasets\n",
    "\n",
    "**Your Goal is to get score of 0.4 or higher**"
   ]
  },
  {
   "cell_type": "markdown",
   "id": "416c05e7",
   "metadata": {},
   "source": [
    "## Understand the dataset\n",
    "Attribute Information:\n",
    "1. **age** - age in years\n",
    "2. **sex**\n",
    "3. **bmi** - body mass index\n",
    "4. **bp** - average blood pressure\n",
    "5. **s1** - tc, total serum cholesterol\n",
    "6. **s2** - ldl, low-density lipoproteins\n",
    "7. **s3** - hdl, high-density lipoproteins\n",
    "8. **s4** - tch, total cholesterol/HDL\n",
    "9. **s5** - ltg, possibly log of serum triglycerides level\n",
    "10. **s6** - glu, blood sugar level\n",
    "\n",
    "Target = a quantitative measure of disease progression one year after baseline"
   ]
  },
  {
   "cell_type": "markdown",
   "id": "67a3b692",
   "metadata": {},
   "source": [
    "## Import the libraries\n",
    "Importing the Data Science and Machine Learning libraries\n",
    "\n",
    "* Pandas as pd\n",
    "* Numpy as np\n",
    "* Matplotlib as plt\n",
    "* Scikit-learn"
   ]
  },
  {
   "cell_type": "code",
   "execution_count": null,
   "id": "a6d79808",
   "metadata": {},
   "outputs": [],
   "source": [
    "# Import libraries\n",
    "import ?? as ?? \n",
    "import ?? as ??\n",
    "import ?? as ??"
   ]
  },
  {
   "cell_type": "code",
   "execution_count": null,
   "id": "1b6ff272",
   "metadata": {},
   "outputs": [],
   "source": [
    "# Import the dataset and assign it to the variable df\n",
    "from sklearn.datasets import load_diabetes\n",
    "df = load_diabetes()"
   ]
  },
  {
   "cell_type": "code",
   "execution_count": null,
   "id": "2012fdf2",
   "metadata": {},
   "outputs": [],
   "source": [
    "# Check for the length of the dataset\n",
    "??"
   ]
  },
  {
   "cell_type": "markdown",
   "id": "15d79ffc",
   "metadata": {},
   "source": [
    "## Create the X and y variables"
   ]
  },
  {
   "cell_type": "code",
   "execution_count": null,
   "id": "51d8d128",
   "metadata": {},
   "outputs": [],
   "source": [
    "# Make the X and y variables\n",
    "X = df.data\n",
    "y = df.target"
   ]
  },
  {
   "cell_type": "markdown",
   "id": "d200efe0",
   "metadata": {},
   "source": [
    "## Create the training and testing datasets"
   ]
  },
  {
   "cell_type": "code",
   "execution_count": null,
   "id": "a96dcbc5",
   "metadata": {},
   "outputs": [],
   "source": [
    "np.random.seed(42)\n",
    "\n",
    "# Import the train_test_split() function from sckit-learn\n",
    "from sklearn.model_selection import train_test_split\n",
    "\n",
    "\n",
    "# Use the train_test_function() function to split the dataset\n",
    "# Make sure that the test_size=0.2\n",
    "X_train, X_test, y_train, y_test = ???"
   ]
  },
  {
   "cell_type": "code",
   "execution_count": null,
   "id": "33408c27",
   "metadata": {},
   "outputs": [],
   "source": [
    "# Check the length of the training and testing sets\n",
    "len(X_train), len(X_test)"
   ]
  },
  {
   "cell_type": "markdown",
   "id": "4c13e44a",
   "metadata": {},
   "source": [
    "## Make the model\n",
    "\n",
    "As we have the training and testing datasets ready, it is time to make the model.\n",
    "\n",
    "As this is a regression problem, we will use the `??` model"
   ]
  },
  {
   "cell_type": "code",
   "execution_count": null,
   "id": "b904725f",
   "metadata": {},
   "outputs": [],
   "source": [
    "np.random.seed(42)\n",
    "\n",
    "# Import the model from scikit-learn library \n",
    "from sklearn.ensemble import ??\n",
    "\n",
    "# Make the model\n",
    "model = ??\n",
    "\n",
    "# Train the model\n",
    "model.fit(X_train, y_train)\n",
    "\n",
    "# Evaluate the model\n",
    "model.score(X_test, y_test)"
   ]
  }
 ],
 "metadata": {
  "kernelspec": {
   "display_name": "Python 3 (ipykernel)",
   "language": "python",
   "name": "python3"
  },
  "language_info": {
   "codemirror_mode": {
    "name": "ipython",
    "version": 3
   },
   "file_extension": ".py",
   "mimetype": "text/x-python",
   "name": "python",
   "nbconvert_exporter": "python",
   "pygments_lexer": "ipython3",
   "version": "3.9.7"
  }
 },
 "nbformat": 4,
 "nbformat_minor": 5
}
